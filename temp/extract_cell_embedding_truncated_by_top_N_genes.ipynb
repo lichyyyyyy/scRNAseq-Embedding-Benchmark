{
 "cells": [
  {
   "metadata": {},
   "cell_type": "markdown",
   "source": "# Truncate Cell Embedding using Only Top N Genes",
   "id": "c8c5a7b2e86ea496"
  },
  {
   "metadata": {
    "ExecuteTime": {
     "end_time": "2025-08-11T02:15:02.258892Z",
     "start_time": "2025-08-11T02:14:50.660656Z"
    }
   },
   "cell_type": "code",
   "source": [
    "import scanpy as sc\n",
    "\n",
    "adata_12k = sc.read_h5ad('../pbmc/pre_processed/pbmc_12k.h5ad')\n",
    "print(adata_12k)"
   ],
   "id": "9e5a96cd5cd4b44d",
   "outputs": [
    {
     "name": "stdout",
     "output_type": "stream",
     "text": [
      "AnnData object with n_obs × n_vars = 11990 × 3346\n",
      "    obs: 'n_counts', 'batch', 'labels', 'str_labels', 'cell_type', 'batch_key', 'original_n_counts'\n",
      "    var: 'key_0', 'gene_symbols', 'n_counts-0', 'n_counts-1', 'n_counts', 'ensembl_id', 'gene_symbol', 'entrez_id', 'refseq_id'\n",
      "    uns: 'cell_types'\n",
      "    obsm: 'design', 'normalized_qc', 'qc_pc', 'raw_qc'\n"
     ]
    },
    {
     "name": "stderr",
     "output_type": "stream",
     "text": [
      "D:\\Beaver\\code\\scRNAseq-Embedding-Benchmark\\.venv\\lib\\site-packages\\anndata\\_core\\aligned_df.py:68: ImplicitModificationWarning: Transforming to str index.\n",
      "  warnings.warn(\"Transforming to str index.\", ImplicitModificationWarning)\n"
     ]
    }
   ],
   "execution_count": 2
  },
  {
   "metadata": {
    "ExecuteTime": {
     "end_time": "2025-08-11T02:15:55.580356Z",
     "start_time": "2025-08-11T02:15:49.451520Z"
    }
   },
   "cell_type": "code",
   "source": [
    "adata_59k = sc.read_h5ad('../pbmc/pre_processed/pbmc_59k.h5ad')\n",
    "print(adata_59k)"
   ],
   "id": "660046505b02b70c",
   "outputs": [
    {
     "name": "stdout",
     "output_type": "stream",
     "text": [
      "AnnData object with n_obs × n_vars = 59506 × 23948\n",
      "    obs: 'cluster', 'n_features', 'mito_pct', 'Annotation', 'rank', 'donor_id', 'time_point', 'age', 'who_max', 'who_d0', 'who_d3', 'who_d7', 'who_d28', 'cardiacevent_72h', 'assay_ontology_term_id', 'cell_type_ontology_term_id', 'development_stage_ontology_term_id', 'disease_ontology_term_id', 'preexisting_heartdisease', 'preexisting_lungdisease', 'preexisting_kidneydisease', 'preexisting_diabetes', 'preexisting_hypertension', 'preexisting_immunocompromisedcondition', 'respiratory_symptoms', 'fever_symptoms', 'gastrointestinal_symptoms', 'self_reported_ethnicity_ontology_term_id', 'is_primary_data', 'organism_ontology_term_id', 'sex_ontology_term_id', 'tissue_ontology_term_id', 'suspension_type', 'tissue_type', 'cell_type', 'assay', 'disease', 'organism', 'sex', 'tissue', 'self_reported_ethnicity', 'development_stage', 'observation_joinid', 'batch_key', 'n_counts'\n",
      "    var: 'key_0', 'author_feature_name', 'feature_is_filtered', 'feature_name', 'feature_reference', 'feature_biotype', 'feature_length', 'feature_type', 'ensembl_id', 'gene_symbol', 'entrez_id', 'refseq_id'\n",
      "    uns: 'cell_type_ontology_term_id_colors', 'citation', 'default_embedding', 'schema_reference', 'schema_version', 'title'\n",
      "    obsm: 'X_umap'\n"
     ]
    },
    {
     "name": "stderr",
     "output_type": "stream",
     "text": [
      "D:\\Beaver\\code\\scRNAseq-Embedding-Benchmark\\.venv\\lib\\site-packages\\anndata\\_core\\aligned_df.py:68: ImplicitModificationWarning: Transforming to str index.\n",
      "  warnings.warn(\"Transforming to str index.\", ImplicitModificationWarning)\n"
     ]
    }
   ],
   "execution_count": 3
  },
  {
   "metadata": {
    "ExecuteTime": {
     "end_time": "2025-08-11T02:15:59.234685Z",
     "start_time": "2025-08-11T02:15:55.643001Z"
    }
   },
   "cell_type": "code",
   "source": [
    "adata_67k = sc.read_h5ad('../pbmc/pre_processed/pbmc_67k.h5ad')\n",
    "print(adata_67k)"
   ],
   "id": "43671f83644f8939",
   "outputs": [
    {
     "name": "stdout",
     "output_type": "stream",
     "text": [
      "AnnData object with n_obs × n_vars = 66985 × 36263\n",
      "    obs: 'nCount_RNA', 'nFeature_RNA', 'nCount_HTO', 'nFeature_HTO', 'HTO_maxID', 'HTO_secondID', 'HTO_margin', 'HTO_classification.global', 'sample', 'donor_id', 'CHIP', 'LANE', 'ProjectID', 'MUTATION', 'MUTATION.GROUP', 'sex_ontology_term_id', 'HTOID', 'percent.mt', 'nCount_SCT', 'nFeature_SCT', 'scType_celltype', 'pANN', 'development_stage_ontology_term_id', 'cell_type_ontology_term_id', 'self_reported_ethnicity_ontology_term_id', 'assay_ontology_term_id', 'suspension_type', 'is_primary_data', 'tissue_type', 'tissue_ontology_term_id', 'organism_ontology_term_id', 'disease_ontology_term_id', 'Clone', 'cell_type', 'assay', 'disease', 'organism', 'sex', 'tissue', 'self_reported_ethnicity', 'development_stage', 'observation_joinid', 'batch_key', 'n_counts'\n",
      "    var: 'key_0', 'feature_is_filtered', 'feature_name', 'feature_reference', 'feature_biotype', 'feature_length', 'feature_type', 'ensembl_id', 'gene_symbol', 'entrez_id', 'refseq_id'\n",
      "    uns: 'citation', 'default_embedding', 'schema_reference', 'schema_version', 'title'\n",
      "    obsm: 'X_umap'\n"
     ]
    },
    {
     "name": "stderr",
     "output_type": "stream",
     "text": [
      "D:\\Beaver\\code\\scRNAseq-Embedding-Benchmark\\.venv\\lib\\site-packages\\anndata\\_core\\aligned_df.py:68: ImplicitModificationWarning: Transforming to str index.\n",
      "  warnings.warn(\"Transforming to str index.\", ImplicitModificationWarning)\n"
     ]
    }
   ],
   "execution_count": 4
  },
  {
   "metadata": {
    "ExecuteTime": {
     "end_time": "2025-08-11T05:14:58.106095Z",
     "start_time": "2025-08-11T05:14:48.656510Z"
    }
   },
   "cell_type": "code",
   "source": [
    "import scanpy as sc\n",
    "import os\n",
    "\n",
    "\n",
    "def truncate_top_genes(adata, n):\n",
    "    gene_expression_sum = adata.X.sum(axis=0).A1\n",
    "    top_genes_idx = gene_expression_sum.argsort()[-n:][::-1]\n",
    "    return adata[:, top_genes_idx]\n",
    "\n",
    "\n",
    "directory = '../pbmc/pre_processed'\n",
    "output_directory = '../pbmc_truncated_genes/pre_processed_200'\n",
    "os.makedirs(output_directory, exist_ok=True)\n",
    "for filename in os.listdir(directory):\n",
    "    print(f'Processing {filename}')\n",
    "    file_path = os.path.join(directory, filename)\n",
    "    adata = sc.read_h5ad(file_path)\n",
    "    adata = truncate_top_genes(adata, 200)\n",
    "    adata.write_h5ad(os.path.join(output_directory, filename))\n",
    "    print(adata)"
   ],
   "id": "2f7243cc6c144524",
   "outputs": [
    {
     "name": "stdout",
     "output_type": "stream",
     "text": [
      "Processing pbmc_12k.h5ad\n",
      "View of AnnData object with n_obs × n_vars = 11990 × 200\n",
      "    obs: 'n_counts', 'batch', 'labels', 'str_labels', 'cell_type', 'batch_key', 'original_n_counts'\n",
      "    var: 'key_0', 'gene_symbols', 'n_counts-0', 'n_counts-1', 'n_counts', 'ensembl_id', 'gene_symbol', 'entrez_id', 'refseq_id'\n",
      "    uns: 'cell_types'\n",
      "    obsm: 'design', 'normalized_qc', 'qc_pc', 'raw_qc'\n",
      "Processing pbmc_59k.h5ad\n",
      "View of AnnData object with n_obs × n_vars = 59506 × 200\n",
      "    obs: 'cluster', 'n_features', 'mito_pct', 'Annotation', 'rank', 'donor_id', 'time_point', 'age', 'who_max', 'who_d0', 'who_d3', 'who_d7', 'who_d28', 'cardiacevent_72h', 'assay_ontology_term_id', 'cell_type_ontology_term_id', 'development_stage_ontology_term_id', 'disease_ontology_term_id', 'preexisting_heartdisease', 'preexisting_lungdisease', 'preexisting_kidneydisease', 'preexisting_diabetes', 'preexisting_hypertension', 'preexisting_immunocompromisedcondition', 'respiratory_symptoms', 'fever_symptoms', 'gastrointestinal_symptoms', 'self_reported_ethnicity_ontology_term_id', 'is_primary_data', 'organism_ontology_term_id', 'sex_ontology_term_id', 'tissue_ontology_term_id', 'suspension_type', 'tissue_type', 'cell_type', 'assay', 'disease', 'organism', 'sex', 'tissue', 'self_reported_ethnicity', 'development_stage', 'observation_joinid', 'batch_key', 'n_counts'\n",
      "    var: 'key_0', 'author_feature_name', 'feature_is_filtered', 'feature_name', 'feature_reference', 'feature_biotype', 'feature_length', 'feature_type', 'ensembl_id', 'gene_symbol', 'entrez_id', 'refseq_id'\n",
      "    uns: 'cell_type_ontology_term_id_colors', 'citation', 'default_embedding', 'schema_reference', 'schema_version', 'title'\n",
      "    obsm: 'X_umap'\n",
      "Processing pbmc_67k.h5ad\n",
      "View of AnnData object with n_obs × n_vars = 66985 × 200\n",
      "    obs: 'nCount_RNA', 'nFeature_RNA', 'nCount_HTO', 'nFeature_HTO', 'HTO_maxID', 'HTO_secondID', 'HTO_margin', 'HTO_classification.global', 'sample', 'donor_id', 'CHIP', 'LANE', 'ProjectID', 'MUTATION', 'MUTATION.GROUP', 'sex_ontology_term_id', 'HTOID', 'percent.mt', 'nCount_SCT', 'nFeature_SCT', 'scType_celltype', 'pANN', 'development_stage_ontology_term_id', 'cell_type_ontology_term_id', 'self_reported_ethnicity_ontology_term_id', 'assay_ontology_term_id', 'suspension_type', 'is_primary_data', 'tissue_type', 'tissue_ontology_term_id', 'organism_ontology_term_id', 'disease_ontology_term_id', 'Clone', 'cell_type', 'assay', 'disease', 'organism', 'sex', 'tissue', 'self_reported_ethnicity', 'development_stage', 'observation_joinid', 'batch_key', 'n_counts'\n",
      "    var: 'key_0', 'feature_is_filtered', 'feature_name', 'feature_reference', 'feature_biotype', 'feature_length', 'feature_type', 'ensembl_id', 'gene_symbol', 'entrez_id', 'refseq_id'\n",
      "    uns: 'citation', 'default_embedding', 'schema_reference', 'schema_version', 'title'\n",
      "    obsm: 'X_umap'\n"
     ]
    }
   ],
   "execution_count": 25
  },
  {
   "metadata": {
    "ExecuteTime": {
     "end_time": "2025-08-11T06:05:41.828713Z",
     "start_time": "2025-08-11T05:31:16.335618Z"
    }
   },
   "cell_type": "code",
   "source": [
    "# Generate cell embeddings with Geneformer.\n",
    "\"\"\"\n",
    "Geneformer configs\n",
    "\"\"\"\n",
    "geneformer_configs = dict(\n",
    "    # The directory to store preprocessed data.\n",
    "    preprocessed_data_directory='../pbmc_truncated_genes/pre_processed_500',\n",
    "    # The output tokenized file directory.\n",
    "    tokenized_file_directory=\"../pbmc_truncated_genes/tokenized_500\",\n",
    "    # The output tokenized filename prefix.\n",
    "    tokenized_file_prefix='geneformer',\n",
    "    # The output embedding file directory.\n",
    "    embedding_output_directory=\"../pbmc_truncated_genes/\",\n",
    "    # The output embedding file name.\n",
    "    embedding_output_filename=\"geneformer_cell_embeddings_truncated_top_500_genes\",\n",
    "    # Directory of the Geneformer pre-trained model.\n",
    "    load_model_dir=\"../embedding_extractors/models/geneformer/model/\",\n",
    "    # List of cell attribute labels to keep, i.e. `cell_type` and `batch_key`. If none, use empty list [].\n",
    "    custom_cell_attr_names=['cell_type', 'batch_key', 'n_counts'],\n",
    ")\n",
    "\n",
    "from embedding_extractors import EmbeddingExtractor\n",
    "\n",
    "emb_extractor = EmbeddingExtractor(\"Geneformer\", output_file_type='h5ad', configs=geneformer_configs)\n",
    "emb_extractor.tokenize()\n",
    "emb_extractor.extract_embeddings()"
   ],
   "id": "9ec0adc007b408f9",
   "outputs": [
    {
     "name": "stdout",
     "output_type": "stream",
     "text": [
      "Tokenizing ..\\pbmc_truncated_genes\\pre_processed_500\\pbmc_12k.h5ad\n",
      "..\\pbmc_truncated_genes\\pre_processed_500\\pbmc_12k.h5ad has no column attribute 'filter_pass'; tokenizing all cells.\n",
      "Tokenizing ..\\pbmc_truncated_genes\\pre_processed_500\\pbmc_59k.h5ad\n",
      "..\\pbmc_truncated_genes\\pre_processed_500\\pbmc_59k.h5ad has no column attribute 'filter_pass'; tokenizing all cells.\n",
      "Tokenizing ..\\pbmc_truncated_genes\\pre_processed_500\\pbmc_67k.h5ad\n",
      "..\\pbmc_truncated_genes\\pre_processed_500\\pbmc_67k.h5ad has no column attribute 'filter_pass'; tokenizing all cells.\n",
      "Creating dataset.\n"
     ]
    },
    {
     "name": "stderr",
     "output_type": "stream",
     "text": [
      "Map: 100%|██████████| 138481/138481 [00:19<00:00, 7261.80 examples/s]\n",
      "Saving the dataset (1/1 shards): 100%|██████████| 138481/138481 [00:00<00:00, 1798451.25 examples/s]\n"
     ]
    },
    {
     "name": "stdout",
     "output_type": "stream",
     "text": [
      "Tokenization completed for Geneformer.\n",
      "Extracting Geneformer embeddings\n"
     ]
    },
    {
     "name": "stderr",
     "output_type": "stream",
     "text": [
      "100%|██████████| 13849/13849 [32:22<00:00,  7.13it/s] \n"
     ]
    },
    {
     "name": "stdout",
     "output_type": "stream",
     "text": [
      "Output embedding in ../pbmc_truncated_genes/geneformer_cell_embeddings_truncated_top_500_genes.h5ad\n",
      "\n"
     ]
    }
   ],
   "execution_count": 29
  },
  {
   "metadata": {
    "ExecuteTime": {
     "end_time": "2025-08-11T07:04:45.103261Z",
     "start_time": "2025-08-11T06:05:42.013482Z"
    }
   },
   "cell_type": "code",
   "source": [
    "# Generate cell embeddings with Geneformer.\n",
    "\"\"\"\n",
    "Geneformer configs\n",
    "\"\"\"\n",
    "geneformer_configs = dict(\n",
    "    # The directory to store preprocessed data.\n",
    "    preprocessed_data_directory='../pbmc_truncated_genes/pre_processed_1k',\n",
    "    # The output tokenized file directory.\n",
    "    tokenized_file_directory=\"../pbmc_truncated_genes/tokenized_1k\",\n",
    "    # The output tokenized filename prefix.\n",
    "    tokenized_file_prefix='geneformer',\n",
    "    # The output embedding file directory.\n",
    "    embedding_output_directory=\"../pbmc_truncated_genes/\",\n",
    "    # The output embedding file name.\n",
    "    embedding_output_filename=\"geneformer_cell_embeddings_truncated_top_1k_genes\",\n",
    "    # Directory of the Geneformer pre-trained model.\n",
    "    load_model_dir=\"../embedding_extractors/models/geneformer/model/\",\n",
    "    # List of cell attribute labels to keep, i.e. `cell_type` and `batch_key`. If none, use empty list [].\n",
    "    custom_cell_attr_names=['cell_type', 'batch_key', 'n_counts'],\n",
    ")\n",
    "\n",
    "from embedding_extractors import EmbeddingExtractor\n",
    "\n",
    "emb_extractor = EmbeddingExtractor(\"Geneformer\", output_file_type='h5ad', configs=geneformer_configs)\n",
    "emb_extractor.tokenize()\n",
    "emb_extractor.extract_embeddings()"
   ],
   "id": "a7a9408ab58fc2ee",
   "outputs": [
    {
     "name": "stdout",
     "output_type": "stream",
     "text": [
      "Tokenizing ..\\pbmc_truncated_genes\\pre_processed_1k\\pbmc_12k.h5ad\n",
      "..\\pbmc_truncated_genes\\pre_processed_1k\\pbmc_12k.h5ad has no column attribute 'filter_pass'; tokenizing all cells.\n",
      "Tokenizing ..\\pbmc_truncated_genes\\pre_processed_1k\\pbmc_59k.h5ad\n",
      "..\\pbmc_truncated_genes\\pre_processed_1k\\pbmc_59k.h5ad has no column attribute 'filter_pass'; tokenizing all cells.\n",
      "Tokenizing ..\\pbmc_truncated_genes\\pre_processed_1k\\pbmc_67k.h5ad\n",
      "..\\pbmc_truncated_genes\\pre_processed_1k\\pbmc_67k.h5ad has no column attribute 'filter_pass'; tokenizing all cells.\n",
      "Creating dataset.\n"
     ]
    },
    {
     "name": "stderr",
     "output_type": "stream",
     "text": [
      "Map: 100%|██████████| 138481/138481 [00:36<00:00, 3791.86 examples/s]\n",
      "Saving the dataset (1/1 shards): 100%|██████████| 138481/138481 [00:00<00:00, 1064392.27 examples/s]\n"
     ]
    },
    {
     "name": "stdout",
     "output_type": "stream",
     "text": [
      "Tokenization completed for Geneformer.\n",
      "Extracting Geneformer embeddings\n"
     ]
    },
    {
     "name": "stderr",
     "output_type": "stream",
     "text": [
      "100%|██████████| 13849/13849 [56:15<00:00,  4.10it/s] \n"
     ]
    },
    {
     "name": "stdout",
     "output_type": "stream",
     "text": [
      "Output embedding in ../pbmc_truncated_genes/geneformer_cell_embeddings_truncated_top_1k_genes.h5ad\n",
      "\n"
     ]
    }
   ],
   "execution_count": 30
  },
  {
   "metadata": {
    "ExecuteTime": {
     "end_time": "2025-08-11T08:00:01.693765Z",
     "start_time": "2025-08-11T07:04:45.185745Z"
    }
   },
   "cell_type": "code",
   "source": [
    "# Generate cell embeddings with Geneformer.\n",
    "\"\"\"\n",
    "Geneformer configs\n",
    "\"\"\"\n",
    "geneformer_configs = dict(\n",
    "    # The directory to store preprocessed data.\n",
    "    preprocessed_data_directory='../pbmc_truncated_genes/pre_processed_3k',\n",
    "    # The output tokenized file directory.\n",
    "    tokenized_file_directory=\"../pbmc_truncated_genes/tokenized_3k\",\n",
    "    # The output tokenized filename prefix.\n",
    "    tokenized_file_prefix='geneformer',\n",
    "    # The output embedding file directory.\n",
    "    embedding_output_directory=\"../pbmc_truncated_genes/\",\n",
    "    # The output embedding file name.\n",
    "    embedding_output_filename=\"geneformer_cell_embeddings_truncated_top_3k_genes\",\n",
    "    # Directory of the Geneformer pre-trained model.\n",
    "    load_model_dir=\"../embedding_extractors/models/geneformer/model/\",\n",
    "    # List of cell attribute labels to keep, i.e. `cell_type` and `batch_key`. If none, use empty list [].\n",
    "    custom_cell_attr_names=['cell_type', 'batch_key', 'n_counts'],\n",
    ")\n",
    "\n",
    "from embedding_extractors import EmbeddingExtractor\n",
    "\n",
    "emb_extractor = EmbeddingExtractor(\"Geneformer\", output_file_type='h5ad', configs=geneformer_configs)\n",
    "emb_extractor.tokenize()\n",
    "emb_extractor.extract_embeddings()"
   ],
   "id": "e6f4f868bf94861e",
   "outputs": [
    {
     "name": "stdout",
     "output_type": "stream",
     "text": [
      "Tokenizing ..\\pbmc_truncated_genes\\pre_processed_3k\\pbmc_12k.h5ad\n"
     ]
    },
    {
     "name": "stderr",
     "output_type": "stream",
     "text": [
      "100%|██████████| 24/24 [00:00<00:00, 33.00it/s]\n"
     ]
    },
    {
     "name": "stdout",
     "output_type": "stream",
     "text": [
      "..\\pbmc_truncated_genes\\pre_processed_3k\\pbmc_12k.h5ad has no column attribute 'filter_pass'; tokenizing all cells.\n",
      "Tokenizing ..\\pbmc_truncated_genes\\pre_processed_3k\\pbmc_59k.h5ad\n",
      "..\\pbmc_truncated_genes\\pre_processed_3k\\pbmc_59k.h5ad has no column attribute 'filter_pass'; tokenizing all cells.\n",
      "Tokenizing ..\\pbmc_truncated_genes\\pre_processed_3k\\pbmc_67k.h5ad\n",
      "..\\pbmc_truncated_genes\\pre_processed_3k\\pbmc_67k.h5ad has no column attribute 'filter_pass'; tokenizing all cells.\n",
      "Creating dataset.\n"
     ]
    },
    {
     "name": "stderr",
     "output_type": "stream",
     "text": [
      "Map: 100%|██████████| 138481/138481 [00:53<00:00, 2607.52 examples/s]\n",
      "Saving the dataset (1/1 shards): 100%|██████████| 138481/138481 [00:00<00:00, 723904.65 examples/s]\n"
     ]
    },
    {
     "name": "stdout",
     "output_type": "stream",
     "text": [
      "Tokenization completed for Geneformer.\n",
      "Extracting Geneformer embeddings\n"
     ]
    },
    {
     "name": "stderr",
     "output_type": "stream",
     "text": [
      "100%|██████████| 13849/13849 [51:18<00:00,  4.50it/s]  \n"
     ]
    },
    {
     "name": "stdout",
     "output_type": "stream",
     "text": [
      "Output embedding in ../pbmc_truncated_genes/geneformer_cell_embeddings_truncated_top_3k_genes.h5ad\n",
      "\n"
     ]
    }
   ],
   "execution_count": 31
  },
  {
   "metadata": {
    "ExecuteTime": {
     "end_time": "2025-08-11T08:07:13.855561Z",
     "start_time": "2025-08-11T08:00:18.762794Z"
    }
   },
   "cell_type": "code",
   "source": [
    "import pandas as pd\n",
    "import glob\n",
    "from pathlib import Path\n",
    "\n",
    "directory = '../pbmc_truncated_genes/*.h5ad'\n",
    "for file_path in glob.glob(directory):\n",
    "    print(f'Processing {file_path}')\n",
    "    cell_emb = sc.read_h5ad(file_path)\n",
    "    print(cell_emb.obsm['X_Geneformer'].shape)\n",
    "    output_df = pd.concat([pd.DataFrame(cell_emb.obs['batch_key']).reset_index(drop=True),\n",
    "                           pd.DataFrame(cell_emb.obs['n_counts']).reset_index(drop=True),\n",
    "                           pd.DataFrame(cell_emb.obsm['X_Geneformer']).reset_index(drop=True)], axis=1)\n",
    "    output_df.to_csv(Path(file_path).with_suffix('.csv'))"
   ],
   "id": "c20d243230d327b2",
   "outputs": [
    {
     "name": "stdout",
     "output_type": "stream",
     "text": [
      "Processing ../pbmc_truncated_genes\\geneformer_cell_embeddings_truncated_top_1k_genes.h5ad\n",
      "(138481, 896)\n",
      "Processing ../pbmc_truncated_genes\\geneformer_cell_embeddings_truncated_top_200_genes.h5ad\n",
      "(138481, 896)\n",
      "Processing ../pbmc_truncated_genes\\geneformer_cell_embeddings_truncated_top_3k_genes.h5ad\n",
      "(138481, 896)\n",
      "Processing ../pbmc_truncated_genes\\geneformer_cell_embeddings_truncated_top_500_genes.h5ad\n",
      "(138481, 896)\n"
     ]
    }
   ],
   "execution_count": 32
  },
  {
   "metadata": {
    "ExecuteTime": {
     "end_time": "2025-08-12T05:02:09.262311Z",
     "start_time": "2025-08-12T05:02:09.071313Z"
    }
   },
   "cell_type": "code",
   "source": [
    "import scanpy as sc\n",
    "\n",
    "adata = sc.read_h5ad('../pbmc_truncated_genes/geneformer_cell_embeddings_truncated_top_1k_genes.h5ad')\n",
    "print(adata.obs['n_counts'][:10])"
   ],
   "id": "8a1e973dba4c6db4",
   "outputs": [
    {
     "name": "stdout",
     "output_type": "stream",
     "text": [
      "0    2277.666992\n",
      "1    2272.825439\n",
      "2    2270.584229\n",
      "3    2292.384521\n",
      "4    2503.839111\n",
      "5    2179.061768\n",
      "6    2125.930176\n",
      "7    2417.371338\n",
      "8    2164.579590\n",
      "9    2357.080078\n",
      "Name: n_counts, dtype: float64\n"
     ]
    }
   ],
   "execution_count": 10
  },
  {
   "metadata": {
    "ExecuteTime": {
     "end_time": "2025-08-12T05:07:03.232551Z",
     "start_time": "2025-08-12T05:07:03.181237Z"
    }
   },
   "cell_type": "code",
   "source": [
    "import scanpy as sc\n",
    "\n",
    "adata = sc.read_h5ad('../pbmc_truncated_genes/pre_processed_1k/pbmc_12k.h5ad')\n",
    "print(adata.obs['n_counts'][:100])"
   ],
   "id": "750d99a9fc0fb482",
   "outputs": [
    {
     "name": "stdout",
     "output_type": "stream",
     "text": [
      "AAACCTGAGCTAGTGG-1    1573.0\n",
      "AAACCTGCACATTAGC-1     892.0\n",
      "AAACCTGCACTGTTAG-1    1389.0\n",
      "AAACCTGCATAGTAAG-1    1487.0\n",
      "AAACCTGCATGAACCT-1     948.0\n",
      "                       ...  \n",
      "AAATGCCTCAACACAC-1    1693.0\n",
      "AAATGCCTCACCAGGC-1    1240.0\n",
      "AAATGCCTCCAGAAGG-1    2059.0\n",
      "AAATGCCTCCTGCCAT-1    1149.0\n",
      "AACACGTAGAGGTTGC-1     937.0\n",
      "Name: n_counts, Length: 100, dtype: float32\n"
     ]
    }
   ],
   "execution_count": 12
  },
  {
   "metadata": {
    "ExecuteTime": {
     "end_time": "2025-08-12T05:25:04.762740Z",
     "start_time": "2025-08-12T05:25:01.214745Z"
    }
   },
   "cell_type": "code",
   "source": [
    "import scanpy as sc\n",
    "\n",
    "adata = sc.read_h5ad('../pbmc/pre_processed/pbmc_59k.h5ad')\n",
    "print(adata.obs['n_counts'][:10])"
   ],
   "id": "3f94b200e299e52e",
   "outputs": [
    {
     "name": "stdout",
     "output_type": "stream",
     "text": [
      "cell\n",
      "batch1_5p_rna|AAACCTGAGAAACGAG-1    1900.751587\n",
      "batch1_5p_rna|AAACCTGAGAGCTGCA-1    1592.616699\n",
      "batch1_5p_rna|AAACCTGAGAGTTGGC-1    1869.868408\n",
      "batch1_5p_rna|AAACCTGAGATCCCGC-1    1662.501343\n",
      "batch1_5p_rna|AAACCTGAGCAAATCA-1    1745.158813\n",
      "batch1_5p_rna|AAACCTGAGCCAACAG-1    2031.940063\n",
      "batch1_5p_rna|AAACCTGAGCGAAGGG-1    1816.160400\n",
      "batch1_5p_rna|AAACCTGAGCGTAATA-1    2110.902588\n",
      "batch1_5p_rna|AAACCTGCAAGCCGCT-1    1967.065186\n",
      "batch1_5p_rna|AAACCTGCACCTATCC-1    1947.370850\n",
      "Name: n_counts, dtype: float32\n"
     ]
    },
    {
     "name": "stderr",
     "output_type": "stream",
     "text": [
      "D:\\Beaver\\code\\scRNAseq-Embedding-Benchmark\\.venv\\lib\\site-packages\\anndata\\_core\\aligned_df.py:68: ImplicitModificationWarning: Transforming to str index.\n",
      "  warnings.warn(\"Transforming to str index.\", ImplicitModificationWarning)\n"
     ]
    }
   ],
   "execution_count": 21
  },
  {
   "metadata": {
    "ExecuteTime": {
     "end_time": "2025-08-12T05:26:51.772161Z",
     "start_time": "2025-08-12T05:26:50.087666Z"
    }
   },
   "cell_type": "code",
   "source": [
    "import scanpy as sc\n",
    "\n",
    "adata = sc.read_h5ad('../pbmc/raw_data/pbmc_59k.h5ad')\n",
    "print(adata.X[0])\n",
    "print(adata.X[0].toarray().sum())"
   ],
   "id": "981e1ea6e940ae93",
   "outputs": [
    {
     "name": "stdout",
     "output_type": "stream",
     "text": [
      "<Compressed Sparse Row sparse matrix of dtype 'float32'\n",
      "\twith 2185 stored elements and shape (1, 23948)>\n",
      "  Coords\tValues\n",
      "  (0, 27)\t0.8788620233535767\n",
      "  (0, 28)\t0.8788620233535767\n",
      "  (0, 54)\t0.5053439736366272\n",
      "  (0, 60)\t0.5053439736366272\n",
      "  (0, 63)\t0.5053439736366272\n",
      "  (0, 79)\t0.5053439736366272\n",
      "  (0, 88)\t0.5053439736366272\n",
      "  (0, 104)\t0.5053439736366272\n",
      "  (0, 118)\t3.294059991836548\n",
      "  (0, 128)\t0.5053439736366272\n",
      "  (0, 146)\t0.5053439736366272\n",
      "  (0, 151)\t0.5053439736366272\n",
      "  (0, 155)\t1.1752899885177612\n",
      "  (0, 208)\t0.5053439736366272\n",
      "  (0, 220)\t0.5053439736366272\n",
      "  (0, 248)\t0.5053439736366272\n",
      "  (0, 251)\t0.5053439736366272\n",
      "  (0, 262)\t0.5053439736366272\n",
      "  (0, 278)\t0.5053439736366272\n",
      "  (0, 295)\t0.8788620233535767\n",
      "  (0, 297)\t1.4210699796676636\n",
      "  (0, 318)\t0.5053439736366272\n",
      "  (0, 321)\t1.1752899885177612\n",
      "  (0, 333)\t1.4210699796676636\n",
      "  (0, 343)\t0.5053439736366272\n",
      "  :\t:\n",
      "  (0, 23754)\t0.8788620233535767\n",
      "  (0, 23783)\t0.5053439736366272\n",
      "  (0, 23788)\t0.5053439736366272\n",
      "  (0, 23802)\t0.5053439736366272\n",
      "  (0, 23806)\t0.8788620233535767\n",
      "  (0, 23816)\t0.5053439736366272\n",
      "  (0, 23839)\t0.5053439736366272\n",
      "  (0, 23852)\t0.8788620233535767\n",
      "  (0, 23862)\t0.5053439736366272\n",
      "  (0, 23884)\t0.5053439736366272\n",
      "  (0, 23887)\t0.8788620233535767\n",
      "  (0, 23888)\t1.1752899885177612\n",
      "  (0, 23920)\t1.4210699796676636\n",
      "  (0, 23921)\t1.4210699796676636\n",
      "  (0, 23922)\t2.5930099487304688\n",
      "  (0, 23923)\t4.082320213317871\n",
      "  (0, 23924)\t1.1752899885177612\n",
      "  (0, 23925)\t3.294059991836548\n",
      "  (0, 23926)\t1.4210699796676636\n",
      "  (0, 23927)\t3.4681999683380127\n",
      "  (0, 23928)\t1.4210699796676636\n",
      "  (0, 23929)\t1.8142499923706055\n",
      "  (0, 23930)\t0.5053439736366272\n",
      "  (0, 23932)\t1.4210699796676636\n",
      "  (0, 23936)\t0.5053439736366272\n",
      "1900.7515\n"
     ]
    }
   ],
   "execution_count": 25
  },
  {
   "metadata": {
    "ExecuteTime": {
     "end_time": "2025-08-12T05:24:37.479902Z",
     "start_time": "2025-08-12T05:24:33.821140Z"
    }
   },
   "cell_type": "code",
   "source": [
    "import scanpy as sc\n",
    "\n",
    "adata = sc.read_h5ad('../pbmc_masked_20/pre_processed/pbmc_59k.h5ad')\n",
    "print(adata.obs['n_counts'][:10])"
   ],
   "id": "73a57ff8fa49abbf",
   "outputs": [
    {
     "name": "stdout",
     "output_type": "stream",
     "text": [
      "cell\n",
      "batch1_5p_rna|AAACCTGAGAAACGAG-1    1520.601196\n",
      "batch1_5p_rna|AAACCTGAGAGCTGCA-1    1274.093140\n",
      "batch1_5p_rna|AAACCTGAGAGTTGGC-1    1495.895020\n",
      "batch1_5p_rna|AAACCTGAGATCCCGC-1    1330.000977\n",
      "batch1_5p_rna|AAACCTGAGCAAATCA-1    1396.127319\n",
      "batch1_5p_rna|AAACCTGAGCCAACAG-1    1625.552002\n",
      "batch1_5p_rna|AAACCTGAGCGAAGGG-1    1452.928223\n",
      "batch1_5p_rna|AAACCTGAGCGTAATA-1    1688.722168\n",
      "batch1_5p_rna|AAACCTGCAAGCCGCT-1    1573.652344\n",
      "batch1_5p_rna|AAACCTGCACCTATCC-1    1557.896729\n",
      "Name: n_counts, dtype: float32\n"
     ]
    },
    {
     "name": "stderr",
     "output_type": "stream",
     "text": [
      "D:\\Beaver\\code\\scRNAseq-Embedding-Benchmark\\.venv\\lib\\site-packages\\anndata\\_core\\aligned_df.py:68: ImplicitModificationWarning: Transforming to str index.\n",
      "  warnings.warn(\"Transforming to str index.\", ImplicitModificationWarning)\n"
     ]
    }
   ],
   "execution_count": 20
  },
  {
   "metadata": {
    "ExecuteTime": {
     "end_time": "2025-08-12T05:21:26.974350Z",
     "start_time": "2025-08-12T05:21:26.692227Z"
    }
   },
   "cell_type": "code",
   "source": [
    "from datasets import load_from_disk\n",
    "ds = load_from_disk('../pbmc_truncated_genes/tokenized_1k/geneformer.dataset').to_pandas()\n",
    "print(ds)"
   ],
   "id": "8d48b8c0d85d628d",
   "outputs": [
    {
     "name": "stdout",
     "output_type": "stream",
     "text": [
      "                                                input_ids  \\\n",
      "0       [2, 17593, 15158, 13986, 11659, 218, 18068, 17...   \n",
      "1       [2, 13986, 5075, 1124, 12868, 17593, 13598, 29...   \n",
      "2       [2, 10773, 16620, 18113, 9814, 8412, 395, 1733...   \n",
      "3       [2, 10773, 18113, 1357, 12558, 16134, 2509, 16...   \n",
      "4       [2, 11797, 5670, 18458, 11993, 7742, 14225, 13...   \n",
      "...                                                   ...   \n",
      "138476  [2, 7655, 12482, 842, 1006, 1882, 14447, 11482...   \n",
      "138477  [2, 3298, 5536, 3387, 11889, 4841, 3735, 2347,...   \n",
      "138478  [2, 13928, 6725, 6650, 12482, 13797, 6245, 842...   \n",
      "138479  [2, 18466, 16533, 7224, 3053, 3735, 10132, 878...   \n",
      "138480  [2, 16924, 8667, 2552, 7093, 547, 11750, 10134...   \n",
      "\n",
      "                                                cell_type batch_key  \\\n",
      "0                                             CD4 T cells  pmbc_12k   \n",
      "1                                             CD4 T cells  pmbc_12k   \n",
      "2                                         CD14+ Monocytes  pmbc_12k   \n",
      "3                                         CD14+ Monocytes  pmbc_12k   \n",
      "4                                             CD8 T cells  pmbc_12k   \n",
      "...                                                   ...       ...   \n",
      "138476                                    CD14+ Monocytes  pbmc_67k   \n",
      "138477                                    CD14+ Monocytes  pbmc_67k   \n",
      "138478  CD16-positive, CD56-dim natural killer cell, h...  pbmc_67k   \n",
      "138479                                           NK cells  pbmc_67k   \n",
      "138480                                        CD4 T cells  pbmc_67k   \n",
      "\n",
      "           n_counts  length  \n",
      "0       1573.000000     324  \n",
      "1        892.000000     235  \n",
      "2       1389.000000     358  \n",
      "3       1487.000000     356  \n",
      "4        948.000000     310  \n",
      "...             ...     ...  \n",
      "138476  2281.518311     472  \n",
      "138477  2837.317627     585  \n",
      "138478  2443.606201     547  \n",
      "138479  1803.753906     353  \n",
      "138480   285.866058     107  \n",
      "\n",
      "[138481 rows x 5 columns]\n"
     ]
    }
   ],
   "execution_count": 17
  },
  {
   "metadata": {
    "ExecuteTime": {
     "end_time": "2025-08-12T05:23:38.123275Z",
     "start_time": "2025-08-12T05:23:38.109276Z"
    }
   },
   "cell_type": "code",
   "source": "print(ds['n_counts'][:10])",
   "id": "afac6aeebea9bf01",
   "outputs": [
    {
     "name": "stdout",
     "output_type": "stream",
     "text": [
      "0    1573.0\n",
      "1     892.0\n",
      "2    1389.0\n",
      "3    1487.0\n",
      "4     948.0\n",
      "5    1678.0\n",
      "6    1813.0\n",
      "7    1396.0\n",
      "8    1026.0\n",
      "9    2072.0\n",
      "Name: n_counts, dtype: float64\n"
     ]
    }
   ],
   "execution_count": 19
  }
 ],
 "metadata": {
  "kernelspec": {
   "display_name": "Python 3",
   "language": "python",
   "name": "python3"
  },
  "language_info": {
   "codemirror_mode": {
    "name": "ipython",
    "version": 2
   },
   "file_extension": ".py",
   "mimetype": "text/x-python",
   "name": "python",
   "nbconvert_exporter": "python",
   "pygments_lexer": "ipython2",
   "version": "2.7.6"
  }
 },
 "nbformat": 4,
 "nbformat_minor": 5
}
