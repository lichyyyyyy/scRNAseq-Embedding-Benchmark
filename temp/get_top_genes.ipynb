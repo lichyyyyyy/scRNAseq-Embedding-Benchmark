{
 "cells": [
  {
   "metadata": {},
   "cell_type": "markdown",
   "source": "# Truncate Cell Embedding using Only Top N Genes",
   "id": "c8c5a7b2e86ea496"
  },
  {
   "metadata": {
    "ExecuteTime": {
     "end_time": "2025-08-11T02:15:02.258892Z",
     "start_time": "2025-08-11T02:14:50.660656Z"
    }
   },
   "cell_type": "code",
   "source": [
    "import scanpy as sc\n",
    "\n",
    "adata_12k = sc.read_h5ad('../pbmc/pre_processed/pbmc_12k.h5ad')\n",
    "print(adata_12k)"
   ],
   "id": "9e5a96cd5cd4b44d",
   "outputs": [
    {
     "name": "stdout",
     "output_type": "stream",
     "text": [
      "AnnData object with n_obs × n_vars = 11990 × 3346\n",
      "    obs: 'n_counts', 'batch', 'labels', 'str_labels', 'cell_type', 'batch_key', 'original_n_counts'\n",
      "    var: 'key_0', 'gene_symbols', 'n_counts-0', 'n_counts-1', 'n_counts', 'ensembl_id', 'gene_symbol', 'entrez_id', 'refseq_id'\n",
      "    uns: 'cell_types'\n",
      "    obsm: 'design', 'normalized_qc', 'qc_pc', 'raw_qc'\n"
     ]
    },
    {
     "name": "stderr",
     "output_type": "stream",
     "text": [
      "D:\\Beaver\\code\\scRNAseq-Embedding-Benchmark\\.venv\\lib\\site-packages\\anndata\\_core\\aligned_df.py:68: ImplicitModificationWarning: Transforming to str index.\n",
      "  warnings.warn(\"Transforming to str index.\", ImplicitModificationWarning)\n"
     ]
    }
   ],
   "execution_count": 2
  },
  {
   "metadata": {
    "ExecuteTime": {
     "end_time": "2025-08-11T02:15:55.580356Z",
     "start_time": "2025-08-11T02:15:49.451520Z"
    }
   },
   "cell_type": "code",
   "source": [
    "adata_59k = sc.read_h5ad('../pbmc/pre_processed/pbmc_59k.h5ad')\n",
    "print(adata_59k)"
   ],
   "id": "660046505b02b70c",
   "outputs": [
    {
     "name": "stdout",
     "output_type": "stream",
     "text": [
      "AnnData object with n_obs × n_vars = 59506 × 23948\n",
      "    obs: 'cluster', 'n_features', 'mito_pct', 'Annotation', 'rank', 'donor_id', 'time_point', 'age', 'who_max', 'who_d0', 'who_d3', 'who_d7', 'who_d28', 'cardiacevent_72h', 'assay_ontology_term_id', 'cell_type_ontology_term_id', 'development_stage_ontology_term_id', 'disease_ontology_term_id', 'preexisting_heartdisease', 'preexisting_lungdisease', 'preexisting_kidneydisease', 'preexisting_diabetes', 'preexisting_hypertension', 'preexisting_immunocompromisedcondition', 'respiratory_symptoms', 'fever_symptoms', 'gastrointestinal_symptoms', 'self_reported_ethnicity_ontology_term_id', 'is_primary_data', 'organism_ontology_term_id', 'sex_ontology_term_id', 'tissue_ontology_term_id', 'suspension_type', 'tissue_type', 'cell_type', 'assay', 'disease', 'organism', 'sex', 'tissue', 'self_reported_ethnicity', 'development_stage', 'observation_joinid', 'batch_key', 'n_counts'\n",
      "    var: 'key_0', 'author_feature_name', 'feature_is_filtered', 'feature_name', 'feature_reference', 'feature_biotype', 'feature_length', 'feature_type', 'ensembl_id', 'gene_symbol', 'entrez_id', 'refseq_id'\n",
      "    uns: 'cell_type_ontology_term_id_colors', 'citation', 'default_embedding', 'schema_reference', 'schema_version', 'title'\n",
      "    obsm: 'X_umap'\n"
     ]
    },
    {
     "name": "stderr",
     "output_type": "stream",
     "text": [
      "D:\\Beaver\\code\\scRNAseq-Embedding-Benchmark\\.venv\\lib\\site-packages\\anndata\\_core\\aligned_df.py:68: ImplicitModificationWarning: Transforming to str index.\n",
      "  warnings.warn(\"Transforming to str index.\", ImplicitModificationWarning)\n"
     ]
    }
   ],
   "execution_count": 3
  },
  {
   "metadata": {
    "ExecuteTime": {
     "end_time": "2025-08-11T02:15:59.234685Z",
     "start_time": "2025-08-11T02:15:55.643001Z"
    }
   },
   "cell_type": "code",
   "source": [
    "adata_67k = sc.read_h5ad('../pbmc/pre_processed/pbmc_67k.h5ad')\n",
    "print(adata_67k)"
   ],
   "id": "43671f83644f8939",
   "outputs": [
    {
     "name": "stdout",
     "output_type": "stream",
     "text": [
      "AnnData object with n_obs × n_vars = 66985 × 36263\n",
      "    obs: 'nCount_RNA', 'nFeature_RNA', 'nCount_HTO', 'nFeature_HTO', 'HTO_maxID', 'HTO_secondID', 'HTO_margin', 'HTO_classification.global', 'sample', 'donor_id', 'CHIP', 'LANE', 'ProjectID', 'MUTATION', 'MUTATION.GROUP', 'sex_ontology_term_id', 'HTOID', 'percent.mt', 'nCount_SCT', 'nFeature_SCT', 'scType_celltype', 'pANN', 'development_stage_ontology_term_id', 'cell_type_ontology_term_id', 'self_reported_ethnicity_ontology_term_id', 'assay_ontology_term_id', 'suspension_type', 'is_primary_data', 'tissue_type', 'tissue_ontology_term_id', 'organism_ontology_term_id', 'disease_ontology_term_id', 'Clone', 'cell_type', 'assay', 'disease', 'organism', 'sex', 'tissue', 'self_reported_ethnicity', 'development_stage', 'observation_joinid', 'batch_key', 'n_counts'\n",
      "    var: 'key_0', 'feature_is_filtered', 'feature_name', 'feature_reference', 'feature_biotype', 'feature_length', 'feature_type', 'ensembl_id', 'gene_symbol', 'entrez_id', 'refseq_id'\n",
      "    uns: 'citation', 'default_embedding', 'schema_reference', 'schema_version', 'title'\n",
      "    obsm: 'X_umap'\n"
     ]
    },
    {
     "name": "stderr",
     "output_type": "stream",
     "text": [
      "D:\\Beaver\\code\\scRNAseq-Embedding-Benchmark\\.venv\\lib\\site-packages\\anndata\\_core\\aligned_df.py:68: ImplicitModificationWarning: Transforming to str index.\n",
      "  warnings.warn(\"Transforming to str index.\", ImplicitModificationWarning)\n"
     ]
    }
   ],
   "execution_count": 4
  },
  {
   "metadata": {
    "ExecuteTime": {
     "end_time": "2025-08-11T05:14:58.106095Z",
     "start_time": "2025-08-11T05:14:48.656510Z"
    }
   },
   "cell_type": "code",
   "source": [
    "import scanpy as sc\n",
    "import os\n",
    "\n",
    "\n",
    "def truncate_top_genes(adata, n):\n",
    "    gene_expression_sum = adata.X.sum(axis=0).A1\n",
    "    top_genes_idx = gene_expression_sum.argsort()[-n:][::-1]\n",
    "    return adata[:, top_genes_idx]\n",
    "\n",
    "\n",
    "directory = '../pbmc/pre_processed'\n",
    "output_directory = '../pbmc_truncated_genes/pre_processed_200'\n",
    "os.makedirs(output_directory, exist_ok=True)\n",
    "for filename in os.listdir(directory):\n",
    "    print(f'Processing {filename}')\n",
    "    file_path = os.path.join(directory, filename)\n",
    "    adata = sc.read_h5ad(file_path)\n",
    "    adata = truncate_top_genes(adata, 200)\n",
    "    adata.write_h5ad(os.path.join(output_directory, filename))\n",
    "    print(adata)"
   ],
   "id": "2f7243cc6c144524",
   "outputs": [
    {
     "name": "stdout",
     "output_type": "stream",
     "text": [
      "Processing pbmc_12k.h5ad\n",
      "View of AnnData object with n_obs × n_vars = 11990 × 200\n",
      "    obs: 'n_counts', 'batch', 'labels', 'str_labels', 'cell_type', 'batch_key', 'original_n_counts'\n",
      "    var: 'key_0', 'gene_symbols', 'n_counts-0', 'n_counts-1', 'n_counts', 'ensembl_id', 'gene_symbol', 'entrez_id', 'refseq_id'\n",
      "    uns: 'cell_types'\n",
      "    obsm: 'design', 'normalized_qc', 'qc_pc', 'raw_qc'\n",
      "Processing pbmc_59k.h5ad\n",
      "View of AnnData object with n_obs × n_vars = 59506 × 200\n",
      "    obs: 'cluster', 'n_features', 'mito_pct', 'Annotation', 'rank', 'donor_id', 'time_point', 'age', 'who_max', 'who_d0', 'who_d3', 'who_d7', 'who_d28', 'cardiacevent_72h', 'assay_ontology_term_id', 'cell_type_ontology_term_id', 'development_stage_ontology_term_id', 'disease_ontology_term_id', 'preexisting_heartdisease', 'preexisting_lungdisease', 'preexisting_kidneydisease', 'preexisting_diabetes', 'preexisting_hypertension', 'preexisting_immunocompromisedcondition', 'respiratory_symptoms', 'fever_symptoms', 'gastrointestinal_symptoms', 'self_reported_ethnicity_ontology_term_id', 'is_primary_data', 'organism_ontology_term_id', 'sex_ontology_term_id', 'tissue_ontology_term_id', 'suspension_type', 'tissue_type', 'cell_type', 'assay', 'disease', 'organism', 'sex', 'tissue', 'self_reported_ethnicity', 'development_stage', 'observation_joinid', 'batch_key', 'n_counts'\n",
      "    var: 'key_0', 'author_feature_name', 'feature_is_filtered', 'feature_name', 'feature_reference', 'feature_biotype', 'feature_length', 'feature_type', 'ensembl_id', 'gene_symbol', 'entrez_id', 'refseq_id'\n",
      "    uns: 'cell_type_ontology_term_id_colors', 'citation', 'default_embedding', 'schema_reference', 'schema_version', 'title'\n",
      "    obsm: 'X_umap'\n",
      "Processing pbmc_67k.h5ad\n",
      "View of AnnData object with n_obs × n_vars = 66985 × 200\n",
      "    obs: 'nCount_RNA', 'nFeature_RNA', 'nCount_HTO', 'nFeature_HTO', 'HTO_maxID', 'HTO_secondID', 'HTO_margin', 'HTO_classification.global', 'sample', 'donor_id', 'CHIP', 'LANE', 'ProjectID', 'MUTATION', 'MUTATION.GROUP', 'sex_ontology_term_id', 'HTOID', 'percent.mt', 'nCount_SCT', 'nFeature_SCT', 'scType_celltype', 'pANN', 'development_stage_ontology_term_id', 'cell_type_ontology_term_id', 'self_reported_ethnicity_ontology_term_id', 'assay_ontology_term_id', 'suspension_type', 'is_primary_data', 'tissue_type', 'tissue_ontology_term_id', 'organism_ontology_term_id', 'disease_ontology_term_id', 'Clone', 'cell_type', 'assay', 'disease', 'organism', 'sex', 'tissue', 'self_reported_ethnicity', 'development_stage', 'observation_joinid', 'batch_key', 'n_counts'\n",
      "    var: 'key_0', 'feature_is_filtered', 'feature_name', 'feature_reference', 'feature_biotype', 'feature_length', 'feature_type', 'ensembl_id', 'gene_symbol', 'entrez_id', 'refseq_id'\n",
      "    uns: 'citation', 'default_embedding', 'schema_reference', 'schema_version', 'title'\n",
      "    obsm: 'X_umap'\n"
     ]
    }
   ],
   "execution_count": 25
  },
  {
   "metadata": {
    "ExecuteTime": {
     "end_time": "2025-08-11T06:05:41.828713Z",
     "start_time": "2025-08-11T05:31:16.335618Z"
    }
   },
   "cell_type": "code",
   "source": [
    "# Generate cell embeddings with Geneformer.\n",
    "\"\"\"\n",
    "Geneformer configs\n",
    "\"\"\"\n",
    "geneformer_configs = dict(\n",
    "    # The directory to store preprocessed data.\n",
    "    preprocessed_data_directory='../pbmc_truncated_genes/pre_processed_500',\n",
    "    # The output tokenized file directory.\n",
    "    tokenized_file_directory=\"../pbmc_truncated_genes/tokenized_500\",\n",
    "    # The output tokenized filename prefix.\n",
    "    tokenized_file_prefix='geneformer',\n",
    "    # The output embedding file directory.\n",
    "    embedding_output_directory=\"../pbmc_truncated_genes/\",\n",
    "    # The output embedding file name.\n",
    "    embedding_output_filename=\"geneformer_cell_embeddings_truncated_top_500_genes\",\n",
    "    # Directory of the Geneformer pre-trained model.\n",
    "    load_model_dir=\"../embedding_extractors/models/geneformer/model/\",\n",
    "    # List of cell attribute labels to keep, i.e. `cell_type` and `batch_key`. If none, use empty list [].\n",
    "    custom_cell_attr_names=['cell_type', 'batch_key', 'n_counts'],\n",
    ")\n",
    "\n",
    "from embedding_extractors import EmbeddingExtractor\n",
    "\n",
    "emb_extractor = EmbeddingExtractor(\"Geneformer\", output_file_type='h5ad', configs=geneformer_configs)\n",
    "emb_extractor.tokenize()\n",
    "emb_extractor.extract_embeddings()"
   ],
   "id": "9ec0adc007b408f9",
   "outputs": [
    {
     "name": "stdout",
     "output_type": "stream",
     "text": [
      "Tokenizing ..\\pbmc_truncated_genes\\pre_processed_500\\pbmc_12k.h5ad\n",
      "..\\pbmc_truncated_genes\\pre_processed_500\\pbmc_12k.h5ad has no column attribute 'filter_pass'; tokenizing all cells.\n",
      "Tokenizing ..\\pbmc_truncated_genes\\pre_processed_500\\pbmc_59k.h5ad\n",
      "..\\pbmc_truncated_genes\\pre_processed_500\\pbmc_59k.h5ad has no column attribute 'filter_pass'; tokenizing all cells.\n",
      "Tokenizing ..\\pbmc_truncated_genes\\pre_processed_500\\pbmc_67k.h5ad\n",
      "..\\pbmc_truncated_genes\\pre_processed_500\\pbmc_67k.h5ad has no column attribute 'filter_pass'; tokenizing all cells.\n",
      "Creating dataset.\n"
     ]
    },
    {
     "name": "stderr",
     "output_type": "stream",
     "text": [
      "Map: 100%|██████████| 138481/138481 [00:19<00:00, 7261.80 examples/s]\n",
      "Saving the dataset (1/1 shards): 100%|██████████| 138481/138481 [00:00<00:00, 1798451.25 examples/s]\n"
     ]
    },
    {
     "name": "stdout",
     "output_type": "stream",
     "text": [
      "Tokenization completed for Geneformer.\n",
      "Extracting Geneformer embeddings\n"
     ]
    },
    {
     "name": "stderr",
     "output_type": "stream",
     "text": [
      "100%|██████████| 13849/13849 [32:22<00:00,  7.13it/s] \n"
     ]
    },
    {
     "name": "stdout",
     "output_type": "stream",
     "text": [
      "Output embedding in ../pbmc_truncated_genes/geneformer_cell_embeddings_truncated_top_500_genes.h5ad\n",
      "\n"
     ]
    }
   ],
   "execution_count": 29
  },
  {
   "metadata": {
    "ExecuteTime": {
     "end_time": "2025-08-11T07:04:45.103261Z",
     "start_time": "2025-08-11T06:05:42.013482Z"
    }
   },
   "cell_type": "code",
   "source": [
    "# Generate cell embeddings with Geneformer.\n",
    "\"\"\"\n",
    "Geneformer configs\n",
    "\"\"\"\n",
    "geneformer_configs = dict(\n",
    "    # The directory to store preprocessed data.\n",
    "    preprocessed_data_directory='../pbmc_truncated_genes/pre_processed_1k',\n",
    "    # The output tokenized file directory.\n",
    "    tokenized_file_directory=\"../pbmc_truncated_genes/tokenized_1k\",\n",
    "    # The output tokenized filename prefix.\n",
    "    tokenized_file_prefix='geneformer',\n",
    "    # The output embedding file directory.\n",
    "    embedding_output_directory=\"../pbmc_truncated_genes/\",\n",
    "    # The output embedding file name.\n",
    "    embedding_output_filename=\"geneformer_cell_embeddings_truncated_top_1k_genes\",\n",
    "    # Directory of the Geneformer pre-trained model.\n",
    "    load_model_dir=\"../embedding_extractors/models/geneformer/model/\",\n",
    "    # List of cell attribute labels to keep, i.e. `cell_type` and `batch_key`. If none, use empty list [].\n",
    "    custom_cell_attr_names=['cell_type', 'batch_key', 'n_counts'],\n",
    ")\n",
    "\n",
    "from embedding_extractors import EmbeddingExtractor\n",
    "\n",
    "emb_extractor = EmbeddingExtractor(\"Geneformer\", output_file_type='h5ad', configs=geneformer_configs)\n",
    "emb_extractor.tokenize()\n",
    "emb_extractor.extract_embeddings()"
   ],
   "id": "a7a9408ab58fc2ee",
   "outputs": [
    {
     "name": "stdout",
     "output_type": "stream",
     "text": [
      "Tokenizing ..\\pbmc_truncated_genes\\pre_processed_1k\\pbmc_12k.h5ad\n",
      "..\\pbmc_truncated_genes\\pre_processed_1k\\pbmc_12k.h5ad has no column attribute 'filter_pass'; tokenizing all cells.\n",
      "Tokenizing ..\\pbmc_truncated_genes\\pre_processed_1k\\pbmc_59k.h5ad\n",
      "..\\pbmc_truncated_genes\\pre_processed_1k\\pbmc_59k.h5ad has no column attribute 'filter_pass'; tokenizing all cells.\n",
      "Tokenizing ..\\pbmc_truncated_genes\\pre_processed_1k\\pbmc_67k.h5ad\n",
      "..\\pbmc_truncated_genes\\pre_processed_1k\\pbmc_67k.h5ad has no column attribute 'filter_pass'; tokenizing all cells.\n",
      "Creating dataset.\n"
     ]
    },
    {
     "name": "stderr",
     "output_type": "stream",
     "text": [
      "Map: 100%|██████████| 138481/138481 [00:36<00:00, 3791.86 examples/s]\n",
      "Saving the dataset (1/1 shards): 100%|██████████| 138481/138481 [00:00<00:00, 1064392.27 examples/s]\n"
     ]
    },
    {
     "name": "stdout",
     "output_type": "stream",
     "text": [
      "Tokenization completed for Geneformer.\n",
      "Extracting Geneformer embeddings\n"
     ]
    },
    {
     "name": "stderr",
     "output_type": "stream",
     "text": [
      "100%|██████████| 13849/13849 [56:15<00:00,  4.10it/s] \n"
     ]
    },
    {
     "name": "stdout",
     "output_type": "stream",
     "text": [
      "Output embedding in ../pbmc_truncated_genes/geneformer_cell_embeddings_truncated_top_1k_genes.h5ad\n",
      "\n"
     ]
    }
   ],
   "execution_count": 30
  },
  {
   "metadata": {
    "ExecuteTime": {
     "end_time": "2025-08-11T08:00:01.693765Z",
     "start_time": "2025-08-11T07:04:45.185745Z"
    }
   },
   "cell_type": "code",
   "source": [
    "# Generate cell embeddings with Geneformer.\n",
    "\"\"\"\n",
    "Geneformer configs\n",
    "\"\"\"\n",
    "geneformer_configs = dict(\n",
    "    # The directory to store preprocessed data.\n",
    "    preprocessed_data_directory='../pbmc_truncated_genes/pre_processed_3k',\n",
    "    # The output tokenized file directory.\n",
    "    tokenized_file_directory=\"../pbmc_truncated_genes/tokenized_3k\",\n",
    "    # The output tokenized filename prefix.\n",
    "    tokenized_file_prefix='geneformer',\n",
    "    # The output embedding file directory.\n",
    "    embedding_output_directory=\"../pbmc_truncated_genes/\",\n",
    "    # The output embedding file name.\n",
    "    embedding_output_filename=\"geneformer_cell_embeddings_truncated_top_3k_genes\",\n",
    "    # Directory of the Geneformer pre-trained model.\n",
    "    load_model_dir=\"../embedding_extractors/models/geneformer/model/\",\n",
    "    # List of cell attribute labels to keep, i.e. `cell_type` and `batch_key`. If none, use empty list [].\n",
    "    custom_cell_attr_names=['cell_type', 'batch_key', 'n_counts'],\n",
    ")\n",
    "\n",
    "from embedding_extractors import EmbeddingExtractor\n",
    "\n",
    "emb_extractor = EmbeddingExtractor(\"Geneformer\", output_file_type='h5ad', configs=geneformer_configs)\n",
    "emb_extractor.tokenize()\n",
    "emb_extractor.extract_embeddings()"
   ],
   "id": "e6f4f868bf94861e",
   "outputs": [
    {
     "name": "stdout",
     "output_type": "stream",
     "text": [
      "Tokenizing ..\\pbmc_truncated_genes\\pre_processed_3k\\pbmc_12k.h5ad\n"
     ]
    },
    {
     "name": "stderr",
     "output_type": "stream",
     "text": [
      "100%|██████████| 24/24 [00:00<00:00, 33.00it/s]\n"
     ]
    },
    {
     "name": "stdout",
     "output_type": "stream",
     "text": [
      "..\\pbmc_truncated_genes\\pre_processed_3k\\pbmc_12k.h5ad has no column attribute 'filter_pass'; tokenizing all cells.\n",
      "Tokenizing ..\\pbmc_truncated_genes\\pre_processed_3k\\pbmc_59k.h5ad\n",
      "..\\pbmc_truncated_genes\\pre_processed_3k\\pbmc_59k.h5ad has no column attribute 'filter_pass'; tokenizing all cells.\n",
      "Tokenizing ..\\pbmc_truncated_genes\\pre_processed_3k\\pbmc_67k.h5ad\n",
      "..\\pbmc_truncated_genes\\pre_processed_3k\\pbmc_67k.h5ad has no column attribute 'filter_pass'; tokenizing all cells.\n",
      "Creating dataset.\n"
     ]
    },
    {
     "name": "stderr",
     "output_type": "stream",
     "text": [
      "Map: 100%|██████████| 138481/138481 [00:53<00:00, 2607.52 examples/s]\n",
      "Saving the dataset (1/1 shards): 100%|██████████| 138481/138481 [00:00<00:00, 723904.65 examples/s]\n"
     ]
    },
    {
     "name": "stdout",
     "output_type": "stream",
     "text": [
      "Tokenization completed for Geneformer.\n",
      "Extracting Geneformer embeddings\n"
     ]
    },
    {
     "name": "stderr",
     "output_type": "stream",
     "text": [
      "100%|██████████| 13849/13849 [51:18<00:00,  4.50it/s]  \n"
     ]
    },
    {
     "name": "stdout",
     "output_type": "stream",
     "text": [
      "Output embedding in ../pbmc_truncated_genes/geneformer_cell_embeddings_truncated_top_3k_genes.h5ad\n",
      "\n"
     ]
    }
   ],
   "execution_count": 31
  },
  {
   "metadata": {
    "ExecuteTime": {
     "end_time": "2025-08-11T08:07:13.855561Z",
     "start_time": "2025-08-11T08:00:18.762794Z"
    }
   },
   "cell_type": "code",
   "source": [
    "import pandas as pd\n",
    "import glob\n",
    "from pathlib import Path\n",
    "\n",
    "directory = '../pbmc_truncated_genes/*.h5ad'\n",
    "for file_path in glob.glob(directory):\n",
    "    print(f'Processing {file_path}')\n",
    "    cell_emb = sc.read_h5ad(file_path)\n",
    "    print(cell_emb.obsm['X_Geneformer'].shape)\n",
    "    output_df = pd.concat([pd.DataFrame(cell_emb.obs['batch_key']).reset_index(drop=True),\n",
    "                           pd.DataFrame(cell_emb.obs['n_counts']).reset_index(drop=True),\n",
    "                           pd.DataFrame(cell_emb.obsm['X_Geneformer']).reset_index(drop=True)], axis=1)\n",
    "    output_df.to_csv(Path(file_path).with_suffix('.csv'))"
   ],
   "id": "c20d243230d327b2",
   "outputs": [
    {
     "name": "stdout",
     "output_type": "stream",
     "text": [
      "Processing ../pbmc_truncated_genes\\geneformer_cell_embeddings_truncated_top_1k_genes.h5ad\n",
      "(138481, 896)\n",
      "Processing ../pbmc_truncated_genes\\geneformer_cell_embeddings_truncated_top_200_genes.h5ad\n",
      "(138481, 896)\n",
      "Processing ../pbmc_truncated_genes\\geneformer_cell_embeddings_truncated_top_3k_genes.h5ad\n",
      "(138481, 896)\n",
      "Processing ../pbmc_truncated_genes\\geneformer_cell_embeddings_truncated_top_500_genes.h5ad\n",
      "(138481, 896)\n"
     ]
    }
   ],
   "execution_count": 32
  }
 ],
 "metadata": {
  "kernelspec": {
   "display_name": "Python 3",
   "language": "python",
   "name": "python3"
  },
  "language_info": {
   "codemirror_mode": {
    "name": "ipython",
    "version": 2
   },
   "file_extension": ".py",
   "mimetype": "text/x-python",
   "name": "python",
   "nbconvert_exporter": "python",
   "pygments_lexer": "ipython2",
   "version": "2.7.6"
  }
 },
 "nbformat": 4,
 "nbformat_minor": 5
}
