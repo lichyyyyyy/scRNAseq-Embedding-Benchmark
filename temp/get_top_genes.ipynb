{
 "cells": [
  {
   "metadata": {},
   "cell_type": "markdown",
   "source": "# Truncate Gene Embedding by Top N Genes",
   "id": "c8c5a7b2e86ea496"
  },
  {
   "metadata": {
    "ExecuteTime": {
     "end_time": "2025-08-10T06:48:54.976024Z",
     "start_time": "2025-08-10T06:48:54.570565Z"
    }
   },
   "cell_type": "code",
   "source": [
    "import scanpy as sc\n",
    "\n",
    "def truncate_top_genes(adata, n):\n",
    "    gene_expression_sum = adata.X.sum(axis=0).A1\n",
    "    top_genes_idx = gene_expression_sum.argsort()[-n:][::-1]\n",
    "    # top_genes = adata.var.obs[top_genes_idx]\n",
    "    return adata[:, top_genes_idx]\n",
    "\n",
    "adata = sc.read_h5ad('../pbmc/pre_processed/pbmc_12k.h5ad')\n",
    "adata = truncate_top_genes(adata, 500)\n",
    "adata.write_h5ad('../pbmc/pre_processed_truncated/pbmc_12k.h5ad')"
   ],
   "id": "2f7243cc6c144524",
   "outputs": [
    {
     "name": "stderr",
     "output_type": "stream",
     "text": [
      "/Users/sheryli/opt/anaconda3/lib/python3.8/site-packages/anndata/_core/anndata.py:121: ImplicitModificationWarning: Transforming to str index.\n",
      "  warnings.warn(\"Transforming to str index.\", ImplicitModificationWarning)\n"
     ]
    }
   ],
   "execution_count": 5
  }
 ],
 "metadata": {
  "kernelspec": {
   "display_name": "Python 3",
   "language": "python",
   "name": "python3"
  },
  "language_info": {
   "codemirror_mode": {
    "name": "ipython",
    "version": 2
   },
   "file_extension": ".py",
   "mimetype": "text/x-python",
   "name": "python",
   "nbconvert_exporter": "python",
   "pygments_lexer": "ipython2",
   "version": "2.7.6"
  }
 },
 "nbformat": 4,
 "nbformat_minor": 5
}
