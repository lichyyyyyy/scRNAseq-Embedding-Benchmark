{
 "cells": [
  {
   "metadata": {},
   "cell_type": "markdown",
   "source": "# Zero Shot Evaluation Tutorial",
   "id": "59978deaa6686483"
  },
  {
   "metadata": {},
   "cell_type": "markdown",
   "source": "## Step 1: Setup",
   "id": "b2c462ec3c4159bb"
  },
  {
   "metadata": {},
   "cell_type": "code",
   "outputs": [],
   "execution_count": null,
   "source": [
    "# Download example dataset (pbmc20k) from: https://drive.google.com/file/d/1YID1c2ls8oT29gaf6GKctWutSo4tytsY/view?usp=sharing\n",
    "# Set up the environment.\n",
    "from embedding_extractors.setup import download_scgpt_model, download_geneformer_model, download_genept_data\n",
    "\n",
    "download_scgpt_model()\n",
    "download_geneformer_model()\n",
    "download_genept_data()"
   ],
   "id": "eb3b0d034d6e6999"
  },
  {
   "metadata": {},
   "cell_type": "markdown",
   "source": "## Step 2: Extract cell embeddings",
   "id": "4f6fd6617285aa92"
  },
  {
   "metadata": {},
   "cell_type": "markdown",
   "source": "#### a) Pre process raw expression metrics",
   "id": "e094c99be6561af6"
  },
  {
   "metadata": {
    "ExecuteTime": {
     "end_time": "2025-07-06T07:07:14.194919Z",
     "start_time": "2025-07-06T07:07:14.183774Z"
    }
   },
   "cell_type": "code",
   "source": [
    "# Pre-process filtered cell expression metrics (no further processes are needed).\n",
    "\n",
    "# Set up configurations for the pre-processor, example configs can be found in `embedding_extractors/config.py`.\n",
    "preprocessor_configs = dict(\n",
    "    # The directory to store raw data.\n",
    "    # Note: Currently only accept Anndata files with gene names in `vars`. The supported gene naming system includes\n",
    "    # \"gene_symbol\", \"ensembl_id\", \"entrez_id\", \"refseq_id\".\n",
    "    raw_data_directory='pbmc20k/raw_data',\n",
    "    # The directory to store preprocessed data.\n",
    "    preprocessed_data_directory='pbmc20k/pre_processed',\n",
    "    # The column name of gene ID in `adata.var`. If the gene ID is the index, input `index`.\n",
    "    gene_id_col_name='gene_ids',\n",
    "    # The type of gene naming system in the gene ID: {\"gene_symbol\", \"ensembl_id\", \"entrez_id\", \"refseq_id\"}.\n",
    "    gene_id_type='ensembl_id',\n",
    "    # The input file format. Currently only Anndata is supported.\n",
    "    file_format='h5ad',\n",
    "    # Whether to keep batch key. If true, the input file directory name will be used as the batch key and stored under\n",
    "    # `adata.obs.batch_key`.\n",
    "    keep_batch_key=False,\n",
    "    # Map of cell attribute labels in `obs` to keep. Key is the name in original file, value is the name in\n",
    "    # pre-processed file. If none, use empty map {}.\n",
    "    custom_cell_attr_names={},\n",
    ")"
   ],
   "id": "1c482787f591be5",
   "outputs": [],
   "execution_count": 17
  },
  {
   "metadata": {
    "ExecuteTime": {
     "end_time": "2025-07-06T07:03:35.436945Z",
     "start_time": "2025-07-06T07:03:28.787054Z"
    }
   },
   "cell_type": "code",
   "source": [
    "from embedding_extractors import pre_processor\n",
    "processor = pre_processor.PreProcessor()\n",
    "processor.pre_process(preprocessor_configs)"
   ],
   "id": "c5b834e8969aa65c",
   "outputs": [
    {
     "name": "stdout",
     "output_type": "stream",
     "text": [
      "Pre-processing pbmc20k\\raw_data\\pbmc20k.h5ad\n",
      "Pre-process completed: pbmc20k/pre_processed\\pbmc20k.h5ad. Shape:\n",
      "AnnData object with n_obs × n_vars = 23837 × 36601\n",
      "    obs: 'n_counts'\n",
      "    var: 'key_0', 'gene_ids', 'feature_types', 'genome', 'ensembl_id', 'gene_symbol', 'entrez_id', 'refseq_id'\n",
      "Successfully pre-processed 1 out of 1 files.\n"
     ]
    }
   ],
   "execution_count": 15
  },
  {
   "metadata": {},
   "cell_type": "markdown",
   "source": "#### b) Tokenize and extract cell embeddings",
   "id": "4fecc6b5e97b3faa"
  },
  {
   "metadata": {
    "ExecuteTime": {
     "end_time": "2025-07-06T07:59:51.890462Z",
     "start_time": "2025-07-06T07:57:13.139670Z"
    }
   },
   "cell_type": "code",
   "source": [
    "# Generate cell embeddings with Geneformer.\n",
    "\"\"\"\n",
    "Geneformer configs\n",
    "\"\"\"\n",
    "geneformer_configs = dict(\n",
    "    # The directory to store preprocessed data.\n",
    "    preprocessed_data_directory='pbmc20k/pre_processed',\n",
    "    # The output tokenized file directory.\n",
    "    tokenized_file_directory=\"pbmc20k/geneformer/tokenized\",\n",
    "    # The output tokenized filename prefix.\n",
    "    tokenized_file_prefix='tokenized',\n",
    "    # List of cell attribute labels to keep. If none, use empty list [].\n",
    "    custom_cell_attr_names=[],\n",
    "    # The output embedding file directory.\n",
    "    embedding_output_directory=\"pbmc20k\",\n",
    "    # The output embedding file name.\n",
    "    embedding_output_filename=\"geneformer_cell_embeddings\"\n",
    ")\n",
    "\n",
    "from embedding_extractors import EmbeddingExtractor\n",
    "\n",
    "emb_extractor = EmbeddingExtractor(\"Geneformer\", output_file_type='h5ad', configs=geneformer_configs)\n",
    "emb_extractor.tokenize()\n",
    "emb_extractor.extract_embeddings()"
   ],
   "id": "60b3d46d8bf3773",
   "outputs": [
    {
     "name": "stdout",
     "output_type": "stream",
     "text": [
      "Tokenizing pbmc20k\\pre_processed\\pbmc20k.h5ad\n"
     ]
    },
    {
     "name": "stderr",
     "output_type": "stream",
     "text": [
      "100%|██████████| 47/47 [00:48<00:00,  1.03s/it]\n"
     ]
    },
    {
     "name": "stdout",
     "output_type": "stream",
     "text": [
      "pbmc20k\\pre_processed\\pbmc20k.h5ad has no column attribute 'filter_pass'; tokenizing all cells.\n",
      "Creating dataset.\n"
     ]
    },
    {
     "name": "stderr",
     "output_type": "stream",
     "text": [
      "Map: 100%|██████████| 23837/23837 [00:14<00:00, 1625.23 examples/s]\n",
      "Saving the dataset (1/1 shards): 100%|██████████| 23837/23837 [00:00<00:00, 324573.34 examples/s]\n"
     ]
    },
    {
     "name": "stdout",
     "output_type": "stream",
     "text": [
      "Tokenization completed for Geneformer.\n",
      "Extracting Geneformer embeddings\n"
     ]
    },
    {
     "name": "stderr",
     "output_type": "stream",
     "text": [
      "  2%|▏         | 50/2384 [01:12<56:40,  1.46s/it] \n"
     ]
    },
    {
     "ename": "KeyboardInterrupt",
     "evalue": "",
     "output_type": "error",
     "traceback": [
      "\u001B[1;31m---------------------------------------------------------------------------\u001B[0m",
      "\u001B[1;31mKeyboardInterrupt\u001B[0m                         Traceback (most recent call last)",
      "Cell \u001B[1;32mIn[2], line 24\u001B[0m\n\u001B[0;32m     22\u001B[0m emb_extractor \u001B[38;5;241m=\u001B[39m EmbeddingExtractor(\u001B[38;5;124m\"\u001B[39m\u001B[38;5;124mGeneformer\u001B[39m\u001B[38;5;124m\"\u001B[39m, output_file_type\u001B[38;5;241m=\u001B[39m\u001B[38;5;124m'\u001B[39m\u001B[38;5;124mh5ad\u001B[39m\u001B[38;5;124m'\u001B[39m, configs\u001B[38;5;241m=\u001B[39mgeneformer_configs)\n\u001B[0;32m     23\u001B[0m emb_extractor\u001B[38;5;241m.\u001B[39mtokenize()\n\u001B[1;32m---> 24\u001B[0m \u001B[43memb_extractor\u001B[49m\u001B[38;5;241;43m.\u001B[39;49m\u001B[43mextract_embeddings\u001B[49m\u001B[43m(\u001B[49m\u001B[43m)\u001B[49m\n",
      "File \u001B[1;32mD:\\Beaver\\code\\scRNAseq-Embedding-Benchmark\\embedding_extractors\\embedding_extractor.py:126\u001B[0m, in \u001B[0;36mEmbeddingExtractor.extract_embeddings\u001B[1;34m(self)\u001B[0m\n\u001B[0;32m    117\u001B[0m os\u001B[38;5;241m.\u001B[39mmakedirs(\u001B[38;5;28mself\u001B[39m\u001B[38;5;241m.\u001B[39mconfigs[\u001B[38;5;124m'\u001B[39m\u001B[38;5;124membedding_output_directory\u001B[39m\u001B[38;5;124m'\u001B[39m], exist_ok\u001B[38;5;241m=\u001B[39m\u001B[38;5;28;01mTrue\u001B[39;00m)\n\u001B[0;32m    118\u001B[0m extractor \u001B[38;5;241m=\u001B[39m EmbExtractor(model_type\u001B[38;5;241m=\u001B[39m\u001B[38;5;124m\"\u001B[39m\u001B[38;5;124mPretrained\u001B[39m\u001B[38;5;124m\"\u001B[39m,\n\u001B[0;32m    119\u001B[0m                          num_classes\u001B[38;5;241m=\u001B[39m\u001B[38;5;241m0\u001B[39m,  \u001B[38;5;66;03m# 0 for the pre-trained model\u001B[39;00m\n\u001B[0;32m    120\u001B[0m                          emb_mode\u001B[38;5;241m=\u001B[39m\u001B[38;5;28mself\u001B[39m\u001B[38;5;241m.\u001B[39mconfigs[\u001B[38;5;124m'\u001B[39m\u001B[38;5;124membedding_mode\u001B[39m\u001B[38;5;124m'\u001B[39m],  \u001B[38;5;66;03m# {\"cls\", \"cell\", \"gene\"}\u001B[39;00m\n\u001B[1;32m   (...)\u001B[0m\n\u001B[0;32m    124\u001B[0m                          emb_label\u001B[38;5;241m=\u001B[39m\u001B[38;5;28mself\u001B[39m\u001B[38;5;241m.\u001B[39mconfigs[\u001B[38;5;124m'\u001B[39m\u001B[38;5;124mcustom_cell_attr_names\u001B[39m\u001B[38;5;124m'\u001B[39m],\n\u001B[0;32m    125\u001B[0m                          nproc\u001B[38;5;241m=\u001B[39m\u001B[38;5;241m4\u001B[39m)\n\u001B[1;32m--> 126\u001B[0m embedding \u001B[38;5;241m=\u001B[39m extractor\u001B[38;5;241m.\u001B[39mextract_embs(\n\u001B[0;32m    127\u001B[0m     model_directory\u001B[38;5;241m=\u001B[39mos\u001B[38;5;241m.\u001B[39mpath\u001B[38;5;241m.\u001B[39mjoin(\u001B[38;5;28mself\u001B[39m\u001B[38;5;241m.\u001B[39mconfigs[\u001B[38;5;124m'\u001B[39m\u001B[38;5;124mload_model_dir\u001B[39m\u001B[38;5;124m'\u001B[39m],\n\u001B[0;32m    128\u001B[0m                                  \u001B[38;5;28mself\u001B[39m\u001B[38;5;241m.\u001B[39mconfigs[\u001B[38;5;124m'\u001B[39m\u001B[38;5;124mmodel_file_name\u001B[39m\u001B[38;5;124m'\u001B[39m]),\n\u001B[0;32m    129\u001B[0m     input_data_file\u001B[38;5;241m=\u001B[39mos\u001B[38;5;241m.\u001B[39mpath\u001B[38;5;241m.\u001B[39mjoin(\u001B[38;5;28mself\u001B[39m\u001B[38;5;241m.\u001B[39mconfigs[\u001B[38;5;124m'\u001B[39m\u001B[38;5;124mtokenized_file_directory\u001B[39m\u001B[38;5;124m'\u001B[39m],\n\u001B[0;32m    130\u001B[0m                                  \u001B[38;5;28mself\u001B[39m\u001B[38;5;241m.\u001B[39mconfigs[\u001B[38;5;124m'\u001B[39m\u001B[38;5;124mtokenized_file_prefix\u001B[39m\u001B[38;5;124m'\u001B[39m] \u001B[38;5;241m+\u001B[39m \u001B[38;5;124m'\u001B[39m\u001B[38;5;124m.dataset\u001B[39m\u001B[38;5;124m'\u001B[39m),\n\u001B[0;32m    131\u001B[0m     output_directory\u001B[38;5;241m=\u001B[39m\u001B[38;5;28mself\u001B[39m\u001B[38;5;241m.\u001B[39mconfigs[\u001B[38;5;124m'\u001B[39m\u001B[38;5;124membedding_output_directory\u001B[39m\u001B[38;5;124m'\u001B[39m],\n\u001B[0;32m    132\u001B[0m     output_prefix\u001B[38;5;241m=\u001B[39m\u001B[38;5;28mself\u001B[39m\u001B[38;5;241m.\u001B[39mconfigs[\u001B[38;5;124m'\u001B[39m\u001B[38;5;124membedding_output_filename\u001B[39m\u001B[38;5;124m'\u001B[39m],\n\u001B[0;32m    133\u001B[0m     output_torch_embs\u001B[38;5;241m=\u001B[39m\u001B[38;5;28;01mFalse\u001B[39;00m)\n\u001B[0;32m    134\u001B[0m output_path \u001B[38;5;241m=\u001B[39m os\u001B[38;5;241m.\u001B[39mpath\u001B[38;5;241m.\u001B[39mjoin(\u001B[38;5;28mself\u001B[39m\u001B[38;5;241m.\u001B[39mconfigs[\u001B[38;5;124m'\u001B[39m\u001B[38;5;124membedding_output_directory\u001B[39m\u001B[38;5;124m'\u001B[39m], \u001B[38;5;28mself\u001B[39m\u001B[38;5;241m.\u001B[39mconfigs[\n\u001B[0;32m    135\u001B[0m     \u001B[38;5;124m'\u001B[39m\u001B[38;5;124membedding_output_filename\u001B[39m\u001B[38;5;124m'\u001B[39m], \u001B[38;5;28mself\u001B[39m\u001B[38;5;241m.\u001B[39moutput_file_type)\n\u001B[0;32m    136\u001B[0m \u001B[38;5;28;01mif\u001B[39;00m \u001B[38;5;28mself\u001B[39m\u001B[38;5;241m.\u001B[39moutput_file_type \u001B[38;5;241m==\u001B[39m \u001B[38;5;124m'\u001B[39m\u001B[38;5;124mcsv\u001B[39m\u001B[38;5;124m'\u001B[39m:\n",
      "File \u001B[1;32mD:\\Beaver\\code\\scRNAseq-Embedding-Benchmark\\embedding_extractors\\models\\geneformer\\emb_extractor.py:617\u001B[0m, in \u001B[0;36mEmbExtractor.extract_embs\u001B[1;34m(self, model_directory, input_data_file, output_directory, output_prefix, output_torch_embs, cell_state)\u001B[0m\n\u001B[0;32m    613\u001B[0m model \u001B[38;5;241m=\u001B[39m pu\u001B[38;5;241m.\u001B[39mload_model(\n\u001B[0;32m    614\u001B[0m     \u001B[38;5;28mself\u001B[39m\u001B[38;5;241m.\u001B[39mmodel_type, \u001B[38;5;28mself\u001B[39m\u001B[38;5;241m.\u001B[39mnum_classes, model_directory, mode\u001B[38;5;241m=\u001B[39m\u001B[38;5;124m\"\u001B[39m\u001B[38;5;124meval\u001B[39m\u001B[38;5;124m\"\u001B[39m\n\u001B[0;32m    615\u001B[0m )\n\u001B[0;32m    616\u001B[0m layer_to_quant \u001B[38;5;241m=\u001B[39m pu\u001B[38;5;241m.\u001B[39mquant_layers(model) \u001B[38;5;241m+\u001B[39m \u001B[38;5;28mself\u001B[39m\u001B[38;5;241m.\u001B[39memb_layer\n\u001B[1;32m--> 617\u001B[0m embs \u001B[38;5;241m=\u001B[39m \u001B[43mget_embs\u001B[49m\u001B[43m(\u001B[49m\n\u001B[0;32m    618\u001B[0m \u001B[43m    \u001B[49m\u001B[43mmodel\u001B[49m\u001B[38;5;241;43m=\u001B[39;49m\u001B[43mmodel\u001B[49m\u001B[43m,\u001B[49m\n\u001B[0;32m    619\u001B[0m \u001B[43m    \u001B[49m\u001B[43mfiltered_input_data\u001B[49m\u001B[38;5;241;43m=\u001B[39;49m\u001B[43mdownsampled_data\u001B[49m\u001B[43m,\u001B[49m\n\u001B[0;32m    620\u001B[0m \u001B[43m    \u001B[49m\u001B[43memb_mode\u001B[49m\u001B[38;5;241;43m=\u001B[39;49m\u001B[38;5;28;43mself\u001B[39;49m\u001B[38;5;241;43m.\u001B[39;49m\u001B[43memb_mode\u001B[49m\u001B[43m,\u001B[49m\n\u001B[0;32m    621\u001B[0m \u001B[43m    \u001B[49m\u001B[43mlayer_to_quant\u001B[49m\u001B[38;5;241;43m=\u001B[39;49m\u001B[43mlayer_to_quant\u001B[49m\u001B[43m,\u001B[49m\n\u001B[0;32m    622\u001B[0m \u001B[43m    \u001B[49m\u001B[43mpad_token_id\u001B[49m\u001B[38;5;241;43m=\u001B[39;49m\u001B[38;5;28;43mself\u001B[39;49m\u001B[38;5;241;43m.\u001B[39;49m\u001B[43mpad_token_id\u001B[49m\u001B[43m,\u001B[49m\n\u001B[0;32m    623\u001B[0m \u001B[43m    \u001B[49m\u001B[43mforward_batch_size\u001B[49m\u001B[38;5;241;43m=\u001B[39;49m\u001B[38;5;28;43mself\u001B[39;49m\u001B[38;5;241;43m.\u001B[39;49m\u001B[43mforward_batch_size\u001B[49m\u001B[43m,\u001B[49m\n\u001B[0;32m    624\u001B[0m \u001B[43m    \u001B[49m\u001B[43mtoken_gene_dict\u001B[49m\u001B[38;5;241;43m=\u001B[39;49m\u001B[38;5;28;43mself\u001B[39;49m\u001B[38;5;241;43m.\u001B[39;49m\u001B[43mtoken_gene_dict\u001B[49m\u001B[43m,\u001B[49m\n\u001B[0;32m    625\u001B[0m \u001B[43m    \u001B[49m\u001B[43msummary_stat\u001B[49m\u001B[38;5;241;43m=\u001B[39;49m\u001B[38;5;28;43mself\u001B[39;49m\u001B[38;5;241;43m.\u001B[39;49m\u001B[43msummary_stat\u001B[49m\u001B[43m,\u001B[49m\n\u001B[0;32m    626\u001B[0m \u001B[43m\u001B[49m\u001B[43m)\u001B[49m\n\u001B[0;32m    628\u001B[0m \u001B[38;5;28;01mif\u001B[39;00m \u001B[38;5;28mself\u001B[39m\u001B[38;5;241m.\u001B[39memb_mode \u001B[38;5;241m==\u001B[39m \u001B[38;5;124m\"\u001B[39m\u001B[38;5;124mcell\u001B[39m\u001B[38;5;124m\"\u001B[39m:\n\u001B[0;32m    629\u001B[0m     \u001B[38;5;28;01mif\u001B[39;00m \u001B[38;5;28mself\u001B[39m\u001B[38;5;241m.\u001B[39msummary_stat \u001B[38;5;129;01mis\u001B[39;00m \u001B[38;5;28;01mNone\u001B[39;00m:\n",
      "File \u001B[1;32mD:\\Beaver\\code\\scRNAseq-Embedding-Benchmark\\embedding_extractors\\models\\geneformer\\emb_extractor.py:167\u001B[0m, in \u001B[0;36mget_embs\u001B[1;34m(model, filtered_input_data, emb_mode, layer_to_quant, pad_token_id, forward_batch_size, token_gene_dict, special_token, summary_stat, silent)\u001B[0m\n\u001B[0;32m    164\u001B[0m     \u001B[38;5;28;01mdel\u001B[39;00m input_data_minibatch\n\u001B[0;32m    165\u001B[0m     \u001B[38;5;28;01mdel\u001B[39;00m embs_i\n\u001B[1;32m--> 167\u001B[0m     \u001B[43mtorch\u001B[49m\u001B[38;5;241;43m.\u001B[39;49m\u001B[43mcuda\u001B[49m\u001B[38;5;241;43m.\u001B[39;49m\u001B[43mempty_cache\u001B[49m\u001B[43m(\u001B[49m\u001B[43m)\u001B[49m\n\u001B[0;32m    169\u001B[0m \u001B[38;5;28;01mif\u001B[39;00m summary_stat \u001B[38;5;129;01mis\u001B[39;00m \u001B[38;5;28;01mNone\u001B[39;00m:\n\u001B[0;32m    170\u001B[0m     \u001B[38;5;28;01mif\u001B[39;00m (emb_mode \u001B[38;5;241m==\u001B[39m \u001B[38;5;124m\"\u001B[39m\u001B[38;5;124mcell\u001B[39m\u001B[38;5;124m\"\u001B[39m) \u001B[38;5;129;01mor\u001B[39;00m (emb_mode \u001B[38;5;241m==\u001B[39m \u001B[38;5;124m\"\u001B[39m\u001B[38;5;124mcls\u001B[39m\u001B[38;5;124m\"\u001B[39m):\n",
      "\u001B[1;31mKeyboardInterrupt\u001B[0m: "
     ]
    }
   ],
   "execution_count": 2
  },
  {
   "metadata": {
    "jupyter": {
     "is_executing": true
    },
    "ExecuteTime": {
     "start_time": "2025-07-06T08:04:06.836199Z"
    }
   },
   "cell_type": "code",
   "source": [
    "# Generate cell embeddings with scGPT.\n",
    "\"\"\"\n",
    "scGPT configs\n",
    "\"\"\"\n",
    "scgpt_configs = dict(\n",
    "    # The directory to store preprocessed data.\n",
    "    preprocessed_data_directory='pbmc20k/pre_processed',\n",
    "    # The output embedding file directory.\n",
    "    embedding_output_directory=\"pbmc20k\",\n",
    "    # The output embedding file name.\n",
    "    embedding_output_filename=\"scgpt_cell_embeddings\",\n",
    "    # List of cell attribute labels to keep. If none, use empty list [].\n",
    "    custom_cell_attr_names=[],\n",
    ")\n",
    "\n",
    "from embedding_extractors import EmbeddingExtractor\n",
    "\n",
    "emb_extractor = EmbeddingExtractor(\"scGPT\", output_file_type='h5ad', configs=scgpt_configs)\n",
    "emb_extractor.tokenize()\n",
    "emb_extractor.extract_embeddings()"
   ],
   "id": "153878cd8d246eb2",
   "outputs": [
    {
     "name": "stdout",
     "output_type": "stream",
     "text": [
      "Extracting scGPT embeddings\n",
      "Embedding pbmc20k/pre_processed\\pbmc20k.h5ad\n"
     ]
    },
    {
     "name": "stderr",
     "output_type": "stream",
     "text": [
      "Embedding cells:  18%|█▊        | 66/373 [00:10<00:48,  6.33it/s]"
     ]
    }
   ],
   "execution_count": null
  },
  {
   "metadata": {
    "ExecuteTime": {
     "end_time": "2025-07-06T08:03:52.355401Z",
     "start_time": "2025-07-06T08:03:39.753671Z"
    }
   },
   "cell_type": "code",
   "source": [
    "# Generate cell embeddings with GenePT-w.\n",
    "\n",
    "\"\"\"\n",
    "genePT configs\n",
    "\"\"\"\n",
    "genept_configs = dict(\n",
    "    # The directory to store preprocessed data.\n",
    "    preprocessed_data_directory='pbmc20k/pre_processed',\n",
    "    # The output embedding file directory for genePT-w.\n",
    "    genept_w_embedding_output_directory=\"pbmc20k\",\n",
    "    # The output embedding file name.\n",
    "    embedding_output_filename=\"genept_w_cell_embeddings\",\n",
    "    # List of cell attribute labels to keep. If none, use empty list [].\n",
    "    custom_cell_attr_names=[],\n",
    ")\n",
    "\n",
    "from embedding_extractors import EmbeddingExtractor\n",
    "\n",
    "emb_extractor = EmbeddingExtractor(\"genePT-w\", output_file_type='h5ad', configs=genept_configs)\n",
    "emb_extractor.tokenize()\n",
    "emb_extractor.extract_embeddings()"
   ],
   "id": "bd10b8b93af91150",
   "outputs": [
    {
     "name": "stderr",
     "output_type": "stream",
     "text": [
      "D:\\Beaver\\code\\scRNAseq-Embedding-Benchmark\\.venv\\lib\\site-packages\\tqdm\\auto.py:21: TqdmWarning: IProgress not found. Please update jupyter and ipywidgets. See https://ipywidgets.readthedocs.io/en/stable/user_install.html\n",
      "  from .autonotebook import tqdm as notebook_tqdm\n"
     ]
    },
    {
     "name": "stdout",
     "output_type": "stream",
     "text": [
      "Extracting genePT-W embeddings\n",
      "Embedding pbmc20k/pre_processed\\pbmc20k.h5ad\n",
      "Unable to match 15384 out of 36601 genes in pbmc20k/pre_processed\\pbmc20k.h5ad\n",
      "Output embedding in pbmc20k\\genept_w_cell_embeddings.h5ad\n",
      "\n"
     ]
    }
   ],
   "execution_count": 1
  },
  {
   "metadata": {},
   "cell_type": "code",
   "outputs": [],
   "execution_count": null,
   "source": [
    "# Generate cell embeddings with GenePT-s.\n",
    "\n",
    "\"\"\"\n",
    "genePT configs\n",
    "\"\"\"\n",
    "genept_configs = dict(\n",
    "    # The directory to store preprocessed data.\n",
    "    preprocessed_data_directory='pbmc20k/pre_processed',\n",
    "    # The output embedding file directory for genePT-s.\n",
    "    genept_s_embedding_output_directory=\"pbmc20k\",\n",
    "    # The used openai model name.\n",
    "    genept_s_openai_model_name='text-embedding-ada-002',\n",
    "    # The output embedding file name.\n",
    "    embedding_output_filename=\"pbmc20k_s_cell_embeddings\",\n",
    "    # OpenAI api key.\n",
    "    openai_api_key='',  # remember to set your open AI API key!\n",
    "    # List of cell attribute labels to keep. If none, use empty list [].\n",
    "    custom_cell_attr_names=[],\n",
    ")\n",
    "from embedding_extractors import EmbeddingExtractor\n",
    "\n",
    "emb_extractor = EmbeddingExtractor(\"genePT-s\", output_file_type='h5ad', configs=genept_configs)\n",
    "emb_extractor.tokenize()\n",
    "emb_extractor.extract_embeddings()"
   ],
   "id": "7a2bcea06d31cf66"
  }
 ],
 "metadata": {
  "kernelspec": {
   "display_name": "Python 3",
   "language": "python",
   "name": "python3"
  },
  "language_info": {
   "codemirror_mode": {
    "name": "ipython",
    "version": 2
   },
   "file_extension": ".py",
   "mimetype": "text/x-python",
   "name": "python",
   "nbconvert_exporter": "python",
   "pygments_lexer": "ipython2",
   "version": "2.7.6"
  }
 },
 "nbformat": 4,
 "nbformat_minor": 5
}
