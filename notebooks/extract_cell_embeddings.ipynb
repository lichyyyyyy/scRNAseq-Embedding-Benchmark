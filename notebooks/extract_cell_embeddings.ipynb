{
 "cells": [
  {
   "metadata": {},
   "cell_type": "markdown",
   "source": "# Extract Cell Embeddings w. Different Foundation Models",
   "id": "59978deaa6686483"
  },
  {
   "metadata": {
    "ExecuteTime": {
     "end_time": "2025-08-01T05:50:53.370478Z",
     "start_time": "2025-08-01T05:50:53.365479Z"
    }
   },
   "cell_type": "code",
   "source": [
    "# Run this cell first to run the script as the root directory.\n",
    "import os\n",
    "import sys\n",
    "\n",
    "project_root = os.path.dirname(os.path.abspath(''))\n",
    "if project_root not in sys.path:\n",
    "    sys.path.insert(0, project_root)"
   ],
   "id": "8540eae5881fd20d",
   "outputs": [],
   "execution_count": 1
  },
  {
   "metadata": {},
   "cell_type": "markdown",
   "source": "## Step 1: Setup",
   "id": "b2c462ec3c4159bb"
  },
  {
   "metadata": {
    "ExecuteTime": {
     "end_time": "2025-07-30T06:25:32.369009Z",
     "start_time": "2025-07-30T06:24:35.626740Z"
    }
   },
   "cell_type": "code",
   "source": [
    "# Set up the environment.\n",
    "from embedding_extractors import download_scgpt_model, download_geneformer_model, download_genept_data\n",
    "\n",
    "download_scgpt_model()\n",
    "download_geneformer_model()\n",
    "download_genept_data()"
   ],
   "id": "eb3b0d034d6e6999",
   "outputs": [
    {
     "name": "stdout",
     "output_type": "stream",
     "text": [
      "✅ File downloaded to: embedding_extractors/models/scGPT/model/\n",
      "✅ File downloaded to: embedding_extractors/models/geneformer/model/gf-20L-95M-i4096\n",
      "✅ File downloaded to: embedding_extractors/models/genePT/model/\n"
     ]
    }
   ],
   "execution_count": 1
  },
  {
   "metadata": {},
   "cell_type": "markdown",
   "source": "## Step 2: Extract cell embeddings",
   "id": "4f6fd6617285aa92"
  },
  {
   "metadata": {},
   "cell_type": "markdown",
   "source": "#### a) Pre process raw expression metrics",
   "id": "e094c99be6561af6"
  },
  {
   "metadata": {
    "ExecuteTime": {
     "end_time": "2025-08-01T05:46:52.481146Z",
     "start_time": "2025-08-01T05:46:52.464087Z"
    }
   },
   "cell_type": "code",
   "source": [
    "# Pre-process filtered cell expression metrics (no further processes are needed).\n",
    "\n",
    "# Set up configurations for the pre-processor, example configs can be found in `embedding_extractors/config.py`.\n",
    "preprocessor_configs = dict(\n",
    "    # The directory to store raw data.\n",
    "    # Note: Currently only accept Anndata files with gene names in `vars`. The supported gene naming system includes\n",
    "    # \"gene_symbol\", \"ensembl_id\", \"entrez_id\", \"refseq_id\".\n",
    "    raw_data_directory='../pbmc_12k',\n",
    "    # The directory to store preprocessed data.\n",
    "    preprocessed_data_directory='../pbmc_masked_80/pre_processed',\n",
    "    # The gene info table， which stores the mapping between different gene naming systems.\n",
    "    # Default is 'expanded_gene_info_table.csv'.\n",
    "    gene_info_table='../embedding_extractors/data/expanded_gene_info_table.csv',\n",
    "    # The column name of gene ID in `adata.var`. If the gene ID is the index, input `index`.\n",
    "    gene_id_col_name='index',\n",
    "    # The type of gene naming system in the gene ID: {\"gene_symbol\", \"ensembl_id\", \"entrez_id\", \"refseq_id\"}.\n",
    "    gene_id_type='ensembl_id',\n",
    "    # The input file format. Currently only Anndata is supported.\n",
    "    file_format='h5ad',\n",
    "    # Whether to keep batch key. If true, the input file directory name will be used as the batch key and stored under\n",
    "    # `adata.obs.batch_key`.\n",
    "    keep_batch_key=True,\n",
    "    # Subsample ratio of raw gene expressions, range (0, 1]. If the value is 1, all gene expressions will be included.\n",
    "    gene_expression_subsample_ratio=0.2,\n",
    "    # Map of cell attribute labels in `obs` to keep. Key is the name in original file, value is the name in\n",
    "    # pre-processed file. If none, use empty map {}.\n",
    "    custom_cell_attr_names={'str_labels': 'cell_type'},\n",
    ")"
   ],
   "id": "1c482787f591be5",
   "outputs": [],
   "execution_count": 19
  },
  {
   "metadata": {
    "ExecuteTime": {
     "end_time": "2025-08-01T05:46:54.611410Z",
     "start_time": "2025-08-01T05:46:53.887492Z"
    }
   },
   "cell_type": "code",
   "source": [
    "from embedding_extractors import pre_processor\n",
    "\n",
    "processor = pre_processor.PreProcessor()\n",
    "processor.pre_process(preprocessor_configs)"
   ],
   "id": "c5b834e8969aa65c",
   "outputs": [
    {
     "name": "stdout",
     "output_type": "stream",
     "text": [
      "Pre-processing ..\\pbmc_12k\\pbmc_12k.h5ad\n",
      "Pre-process completed: ../pbmc_masked_80/pre_processed\\pbmc_12k.h5ad. Shape:\n",
      "AnnData object with n_obs × n_vars = 11990 × 3346\n",
      "    obs: 'n_counts', 'batch', 'labels', 'str_labels', 'cell_type', 'batch_key', 'original_n_counts'\n",
      "    var: 'key_0', 'gene_symbols', 'n_counts-0', 'n_counts-1', 'n_counts', 'ensembl_id', 'gene_symbol', 'entrez_id', 'refseq_id'\n",
      "    uns: 'cell_types'\n",
      "    obsm: 'design', 'normalized_qc', 'qc_pc', 'raw_qc'\n",
      "Successfully pre-processed 1 out of 1 file(s).\n"
     ]
    }
   ],
   "execution_count": 20
  },
  {
   "metadata": {},
   "cell_type": "markdown",
   "source": "#### b) Tokenize and extract cell embeddings",
   "id": "4fecc6b5e97b3faa"
  },
  {
   "metadata": {
    "ExecuteTime": {
     "end_time": "2025-07-08T06:29:31.209843Z",
     "start_time": "2025-07-08T05:10:42.598271Z"
    }
   },
   "cell_type": "code",
   "source": [
    "# Generate cell embeddings with Geneformer.\n",
    "\"\"\"\n",
    "Geneformer configs\n",
    "\"\"\"\n",
    "geneformer_configs = dict(\n",
    "    # The directory to store preprocessed data.\n",
    "    preprocessed_data_directory='pbmc_masked_80/pre_processed',\n",
    "    # The output tokenized file directory.\n",
    "    tokenized_file_directory=\"pbmc_masked_80/tokenized\",\n",
    "    # The output tokenized filename prefix.\n",
    "    tokenized_file_prefix='geneformer',\n",
    "    # The output embedding file directory.\n",
    "    embedding_output_directory=\"pbmc_masked_80\",\n",
    "    # The output embedding file name.\n",
    "    embedding_output_filename=\"geneformer_cell_embeddings\",\n",
    "    # List of cell attribute labels to keep, i.e. `cell_type` and `batch_key`. If none, use empty list [].\n",
    "    custom_cell_attr_names=['cell_type', 'batch_key'],\n",
    ")\n",
    "\n",
    "from embedding_extractors import EmbeddingExtractor\n",
    "\n",
    "emb_extractor = EmbeddingExtractor(\"Geneformer\", output_file_type='h5ad', configs=geneformer_configs)\n",
    "emb_extractor.tokenize()\n",
    "emb_extractor.extract_embeddings()"
   ],
   "id": "60b3d46d8bf3773",
   "outputs": [
    {
     "name": "stdout",
     "output_type": "stream",
     "text": [
      "Tokenizing pbmc\\pre_processed\\pbmc_12k.h5ad\n"
     ]
    },
    {
     "name": "stderr",
     "output_type": "stream",
     "text": [
      "100%|██████████| 24/24 [00:00<00:00, 51.50it/s]\n"
     ]
    },
    {
     "name": "stdout",
     "output_type": "stream",
     "text": [
      "pbmc\\pre_processed\\pbmc_12k.h5ad has no column attribute 'filter_pass'; tokenizing all cells.\n",
      "Tokenizing pbmc\\pre_processed\\pbmc_59k.h5ad\n"
     ]
    },
    {
     "name": "stderr",
     "output_type": "stream",
     "text": [
      "100%|██████████| 117/117 [00:22<00:00,  5.12it/s]\n"
     ]
    },
    {
     "name": "stdout",
     "output_type": "stream",
     "text": [
      "pbmc\\pre_processed\\pbmc_59k.h5ad has no column attribute 'filter_pass'; tokenizing all cells.\n",
      "Tokenizing pbmc\\pre_processed\\pbmc_67k.h5ad\n"
     ]
    },
    {
     "name": "stderr",
     "output_type": "stream",
     "text": [
      "100%|██████████| 131/131 [00:09<00:00, 14.36it/s]\n"
     ]
    },
    {
     "name": "stdout",
     "output_type": "stream",
     "text": [
      "pbmc\\pre_processed\\pbmc_67k.h5ad has no column attribute 'filter_pass'; tokenizing all cells.\n",
      "Creating dataset.\n"
     ]
    },
    {
     "name": "stderr",
     "output_type": "stream",
     "text": [
      "Map: 100%|██████████| 138481/138481 [00:47<00:00, 2939.04 examples/s]\n",
      "Saving the dataset (2/2 shards): 100%|██████████| 138481/138481 [00:00<00:00, 668459.81 examples/s]\n"
     ]
    },
    {
     "name": "stdout",
     "output_type": "stream",
     "text": [
      "Tokenization completed for Geneformer.\n",
      "Extracting Geneformer embeddings\n"
     ]
    },
    {
     "name": "stderr",
     "output_type": "stream",
     "text": [
      "100%|██████████| 13849/13849 [1:15:04<00:00,  3.07it/s]\n"
     ]
    },
    {
     "name": "stdout",
     "output_type": "stream",
     "text": [
      "Output embedding in pbmc\\geneformer_cell_embeddings.h5ad\n",
      "\n"
     ]
    }
   ],
   "execution_count": 19
  },
  {
   "metadata": {
    "ExecuteTime": {
     "end_time": "2025-08-01T06:17:54.167003Z",
     "start_time": "2025-08-01T06:12:15.566326Z"
    }
   },
   "cell_type": "code",
   "source": [
    "# Generate cell embeddings with scGPT.\n",
    "\"\"\"\n",
    "scGPT configs\n",
    "\"\"\"\n",
    "scgpt_configs = dict(\n",
    "    # The directory to store preprocessed data.\n",
    "    preprocessed_data_directory='../pbmc_masked_80/pre_processed',\n",
    "    # The output embedding file directory.\n",
    "    embedding_output_directory=\"../pbmc_masked_80\",\n",
    "    # The output embedding file name.\n",
    "    embedding_output_filename=\"scgpt_cell_embeddings\",\n",
    "    # Directory of the scGPT pre-trained model.\n",
    "    load_model_dir='../embedding_extractors/models/scGPT/model/',\n",
    "    # List of cell attribute labels to keep, i.e. `cell_type` and `batch_key`. If none, use empty list [].\n",
    "    custom_cell_attr_names=['cell_type', 'batch_key'],\n",
    ")\n",
    "\n",
    "from embedding_extractors import EmbeddingExtractor\n",
    "\n",
    "emb_extractor = EmbeddingExtractor(\"scGPT\", output_file_type='h5ad', configs=scgpt_configs)\n",
    "emb_extractor.tokenize()\n",
    "emb_extractor.extract_embeddings()"
   ],
   "id": "153878cd8d246eb2",
   "outputs": [
    {
     "name": "stdout",
     "output_type": "stream",
     "text": [
      "Extracting scGPT embeddings\n",
      "Embedding ../pbmc_masked_80/pre_processed\\pbmc_12k.h5ad\n"
     ]
    },
    {
     "name": "stderr",
     "output_type": "stream",
     "text": [
      "Embedding cells: 100%|██████████| 188/188 [00:23<00:00,  8.04it/s]\n"
     ]
    },
    {
     "name": "stdout",
     "output_type": "stream",
     "text": [
      "Embedding ../pbmc_masked_80/pre_processed\\pbmc_59k.h5ad\n"
     ]
    },
    {
     "name": "stderr",
     "output_type": "stream",
     "text": [
      "Embedding cells: 100%|██████████| 930/930 [02:22<00:00,  6.55it/s]\n"
     ]
    },
    {
     "name": "stdout",
     "output_type": "stream",
     "text": [
      "Embedding ../pbmc_masked_80/pre_processed\\pbmc_67k.h5ad\n"
     ]
    },
    {
     "name": "stderr",
     "output_type": "stream",
     "text": [
      "Embedding cells: 100%|██████████| 1047/1047 [02:39<00:00,  6.56it/s]\n"
     ]
    },
    {
     "name": "stdout",
     "output_type": "stream",
     "text": [
      "Extract embeddings from 3 files. Output embedding in ../pbmc_masked_80\\scgpt_cell_embeddings.h5ad\n"
     ]
    }
   ],
   "execution_count": 11
  },
  {
   "metadata": {
    "ExecuteTime": {
     "end_time": "2025-08-01T06:18:28.702852Z",
     "start_time": "2025-08-01T06:17:54.199004Z"
    }
   },
   "cell_type": "code",
   "source": [
    "# Generate cell embeddings with GenePT-w.\n",
    "\n",
    "\"\"\"\n",
    "genePT configs\n",
    "\"\"\"\n",
    "genept_configs = dict(\n",
    "    # The directory to store preprocessed data.\n",
    "    preprocessed_data_directory='../pbmc_masked_80/pre_processed',\n",
    "    # The output embedding file directory for genePT-w.\n",
    "    genept_w_embedding_output_directory=\"../pbmc_masked_80\",\n",
    "    # Directory of the genePT pre-trained gene embedding file.\n",
    "    load_model_dir='../embedding_extractors/models/genePT/model/',\n",
    "    # The output embedding file name.\n",
    "    embedding_output_filename=\"genept_w_cell_embeddings\",\n",
    "    # List of cell attribute labels to keep, i.e. `cell_type` and `batch_key`. If none, use empty list [].\n",
    "    custom_cell_attr_names=['cell_type', 'batch_key'],\n",
    ")\n",
    "\n",
    "from embedding_extractors import EmbeddingExtractor\n",
    "\n",
    "emb_extractor = EmbeddingExtractor(\"genePT-w\", output_file_type='h5ad', configs=genept_configs)\n",
    "emb_extractor.tokenize()\n",
    "emb_extractor.extract_embeddings()"
   ],
   "id": "bd10b8b93af91150",
   "outputs": [
    {
     "name": "stdout",
     "output_type": "stream",
     "text": [
      "Extracting genePT-W embeddings\n",
      "Embedding ../pbmc_masked_80/pre_processed\\pbmc_12k.h5ad\n",
      "Unable to match 24 out of 3346 genes in ../pbmc_masked_80/pre_processed\\pbmc_12k.h5ad\n",
      "Embedding ../pbmc_masked_80/pre_processed\\pbmc_59k.h5ad\n",
      "Unable to match 6313 out of 23948 genes in ../pbmc_masked_80/pre_processed\\pbmc_59k.h5ad\n",
      "Embedding ../pbmc_masked_80/pre_processed\\pbmc_67k.h5ad\n",
      "Unable to match 15196 out of 36263 genes in ../pbmc_masked_80/pre_processed\\pbmc_67k.h5ad\n",
      "Extract embeddings from 3 files. Output embedding in ../pbmc_masked_80\\genept_w_cell_embeddings.h5ad\n",
      "\n"
     ]
    }
   ],
   "execution_count": 12
  },
  {
   "metadata": {
    "jupyter": {
     "is_executing": true
    },
    "ExecuteTime": {
     "start_time": "2025-07-08T07:01:34.400372Z"
    }
   },
   "cell_type": "code",
   "source": [
    "# Generate cell embeddings with GenePT-s.\n",
    "\n",
    "\"\"\"\n",
    "genePT configs\n",
    "\"\"\"\n",
    "genept_configs = dict(\n",
    "    # The directory to store preprocessed data.\n",
    "    preprocessed_data_directory='pbmc_masked_80/pre_processed',\n",
    "    # The output embedding file directory for genePT-s.\n",
    "    genept_s_embedding_output_directory=\"pbmc_masked_80\",\n",
    "    # The used openai model name.\n",
    "    genept_s_openai_model_name='text-embedding-ada-002',\n",
    "    # The output embedding file name.\n",
    "    embedding_output_filename=\"genept_s_cell_embeddings\",\n",
    "    # OpenAI api key.\n",
    "    openai_api_key='',  # remember to set your open AI API key!\n",
    "    openai_api_max_threads=10,\n",
    "    # List of cell attribute labels to keep, i.e. `cell_type` and `batch_key`. If none, use empty list [].\n",
    "    custom_cell_attr_names=['cell_type', 'batch_key'],\n",
    ")\n",
    "from embedding_extractors import EmbeddingExtractor\n",
    "\n",
    "emb_extractor = EmbeddingExtractor(\"genePT-s\", output_file_type='h5ad', configs=genept_configs)\n",
    "emb_extractor.tokenize()\n",
    "emb_extractor.extract_embeddings()"
   ],
   "id": "7a2bcea06d31cf66",
   "outputs": [
    {
     "name": "stderr",
     "output_type": "stream",
     "text": [
      "D:\\Beaver\\code\\scRNAseq-Embedding-Benchmark\\.venv\\lib\\site-packages\\tqdm\\auto.py:21: TqdmWarning: IProgress not found. Please update jupyter and ipywidgets. See https://ipywidgets.readthedocs.io/en/stable/user_install.html\n",
      "  from .autonotebook import tqdm as notebook_tqdm\n"
     ]
    },
    {
     "name": "stdout",
     "output_type": "stream",
     "text": [
      "Extracting genePT-s embeddings\n",
      "Embedding pbmc/pre_processed\\pbmc_12k.h5ad\n",
      "Processed 0 out of 11990 cells...\n",
      "Processed 1000 out of 11990 cells...\n",
      "Processed 2000 out of 11990 cells...\n",
      "Processed 3000 out of 11990 cells...\n",
      "Processed 4000 out of 11990 cells...\n",
      "Processed 5000 out of 11990 cells...\n",
      "Processed 6000 out of 11990 cells...\n",
      "Processed 7000 out of 11990 cells...\n",
      "Processed 8000 out of 11990 cells...\n",
      "Processed 9000 out of 11990 cells...\n",
      "Processed 10000 out of 11990 cells...\n",
      "Processed 11000 out of 11990 cells...\n",
      "Failed to fetch embeddings from OpenAi. Attempt 1: Request timed out: HTTPSConnectionPool(host='api.openai.com', port=443): Read timed out. (read timeout=600)\n",
      "Failed to fetch embeddings from OpenAi. Attempt 1: Request timed out: HTTPSConnectionPool(host='api.openai.com', port=443): Read timed out. (read timeout=600)\n",
      "Failed to fetch embeddings from OpenAi. Attempt 1: Request timed out: HTTPSConnectionPool(host='api.openai.com', port=443): Read timed out. (read timeout=600)\n",
      "Embedding pbmc/pre_processed\\pbmc_59k.h5ad\n",
      "Processed 0 out of 59506 cells...\n",
      "Processed 1000 out of 59506 cells...\n",
      "Processed 2000 out of 59506 cells...\n",
      "Processed 3000 out of 59506 cells...\n",
      "Processed 4000 out of 59506 cells...\n",
      "Processed 5000 out of 59506 cells...\n",
      "Processed 6000 out of 59506 cells...\n",
      "Processed 7000 out of 59506 cells...\n",
      "Processed 8000 out of 59506 cells...\n",
      "Processed 9000 out of 59506 cells...\n",
      "Processed 10000 out of 59506 cells...\n",
      "Processed 11000 out of 59506 cells...\n",
      "Processed 12000 out of 59506 cells...\n",
      "Processed 13000 out of 59506 cells...\n",
      "Processed 14000 out of 59506 cells...\n",
      "Processed 15000 out of 59506 cells...\n",
      "Processed 16000 out of 59506 cells...\n",
      "Processed 17000 out of 59506 cells...\n",
      "Processed 18000 out of 59506 cells...\n",
      "Processed 19000 out of 59506 cells...\n",
      "Processed 20000 out of 59506 cells...\n",
      "Processed 21000 out of 59506 cells...\n",
      "Processed 22000 out of 59506 cells...\n",
      "Processed 23000 out of 59506 cells...\n",
      "Processed 24000 out of 59506 cells...\n",
      "Processed 25000 out of 59506 cells...\n",
      "Processed 26000 out of 59506 cells...\n",
      "Processed 27000 out of 59506 cells...\n",
      "Processed 28000 out of 59506 cells...\n",
      "Processed 29000 out of 59506 cells...\n",
      "Processed 30000 out of 59506 cells...\n",
      "Processed 31000 out of 59506 cells...\n",
      "Processed 32000 out of 59506 cells...\n",
      "Processed 33000 out of 59506 cells...\n",
      "Processed 34000 out of 59506 cells...\n",
      "Processed 35000 out of 59506 cells...\n",
      "Processed 36000 out of 59506 cells...\n",
      "Processed 37000 out of 59506 cells...\n",
      "Processed 38000 out of 59506 cells...\n",
      "Processed 39000 out of 59506 cells...\n",
      "Processed 40000 out of 59506 cells...\n",
      "Processed 41000 out of 59506 cells...\n",
      "Processed 42000 out of 59506 cells...\n",
      "Processed 43000 out of 59506 cells...\n",
      "Processed 44000 out of 59506 cells...\n",
      "Processed 45000 out of 59506 cells...\n",
      "Processed 46000 out of 59506 cells...\n",
      "Processed 47000 out of 59506 cells...\n",
      "Processed 48000 out of 59506 cells...\n",
      "Processed 49000 out of 59506 cells...\n",
      "Processed 50000 out of 59506 cells...\n",
      "Processed 51000 out of 59506 cells...\n",
      "Processed 52000 out of 59506 cells...\n",
      "Processed 53000 out of 59506 cells...\n",
      "Processed 54000 out of 59506 cells...\n",
      "Processed 55000 out of 59506 cells...\n",
      "Processed 56000 out of 59506 cells...\n",
      "Processed 57000 out of 59506 cells...\n",
      "Processed 58000 out of 59506 cells...\n",
      "Processed 59000 out of 59506 cells...\n",
      "Failed to fetch embeddings from OpenAi. Attempt 1: Request timed out: HTTPSConnectionPool(host='api.openai.com', port=443): Read timed out. (read timeout=600)\n",
      "Failed to fetch embeddings from OpenAi. Attempt 1: Request timed out: HTTPSConnectionPool(host='api.openai.com', port=443): Read timed out. (read timeout=600)\n",
      "Failed to fetch embeddings from OpenAi. Attempt 1: Request timed out: HTTPSConnectionPool(host='api.openai.com', port=443): Read timed out. (read timeout=600)\n",
      "Failed to fetch embeddings from OpenAi. Attempt 1: Request timed out: HTTPSConnectionPool(host='api.openai.com', port=443): Read timed out. (read timeout=600)\n",
      "Embedding pbmc/pre_processed\\pbmc_67k.h5ad\n",
      "Processed 0 out of 66985 cells...\n",
      "Processed 1000 out of 66985 cells...\n",
      "Processed 2000 out of 66985 cells...\n",
      "Processed 3000 out of 66985 cells...\n",
      "Processed 4000 out of 66985 cells...\n",
      "Processed 5000 out of 66985 cells...\n",
      "Processed 6000 out of 66985 cells...\n",
      "Processed 7000 out of 66985 cells...\n",
      "Processed 8000 out of 66985 cells...\n",
      "Processed 9000 out of 66985 cells...\n",
      "Processed 10000 out of 66985 cells...\n",
      "Processed 11000 out of 66985 cells...\n",
      "Processed 12000 out of 66985 cells...\n",
      "Processed 13000 out of 66985 cells...\n",
      "Processed 14000 out of 66985 cells...\n",
      "Processed 15000 out of 66985 cells...\n",
      "Processed 16000 out of 66985 cells...\n",
      "Processed 17000 out of 66985 cells...\n",
      "Processed 18000 out of 66985 cells...\n",
      "Processed 19000 out of 66985 cells...\n",
      "Processed 20000 out of 66985 cells...\n",
      "Processed 21000 out of 66985 cells...\n",
      "Processed 22000 out of 66985 cells...\n",
      "Processed 23000 out of 66985 cells...\n",
      "Processed 24000 out of 66985 cells...\n",
      "Processed 25000 out of 66985 cells...\n",
      "Processed 26000 out of 66985 cells...\n",
      "Failed to fetch embeddings from OpenAi. Attempt 1: Request timed out: HTTPSConnectionPool(host='api.openai.com', port=443): Read timed out. (read timeout=600)\n",
      "Processed 27000 out of 66985 cells...\n",
      "Processed 28000 out of 66985 cells...\n",
      "Failed to fetch embeddings from OpenAi. Attempt 1: Request timed out: HTTPSConnectionPool(host='api.openai.com', port=443): Read timed out. (read timeout=600)\n",
      "Processed 29000 out of 66985 cells...\n",
      "Processed 30000 out of 66985 cells...\n",
      "Processed 31000 out of 66985 cells...\n",
      "Processed 32000 out of 66985 cells...\n",
      "Processed 33000 out of 66985 cells...\n",
      "Processed 34000 out of 66985 cells...\n",
      "Processed 35000 out of 66985 cells...\n",
      "Processed 36000 out of 66985 cells...\n",
      "Processed 37000 out of 66985 cells...\n",
      "Processed 38000 out of 66985 cells...\n",
      "Processed 39000 out of 66985 cells...\n",
      "Failed to fetch embeddings from OpenAi. Attempt 1: HTTP code 504 from API (<!DOCTYPE html>\n",
      "<!--[if lt IE 7]> <html class=\"no-js ie6 oldie\" lang=\"en-US\"> <![endif]-->\n",
      "<!--[if IE 7]>    <html class=\"no-js ie7 oldie\" lang=\"en-US\"> <![endif]-->\n",
      "<!--[if IE 8]>    <html class=\"no-js ie8 oldie\" lang=\"en-US\"> <![endif]-->\n",
      "<!--[if gt IE 8]><!--> <html class=\"no-js\" lang=\"en-US\"> <!--<![endif]-->\n",
      "<head>\n",
      "\n",
      "\n",
      "<title>api.openai.com | 504: Gateway time-out</title>\n",
      "<meta charset=\"UTF-8\" />\n",
      "<meta http-equiv=\"Content-Type\" content=\"text/html; charset=UTF-8\" />\n",
      "<meta http-equiv=\"X-UA-Compatible\" content=\"IE=Edge\" />\n",
      "<meta name=\"robots\" content=\"noindex, nofollow\" />\n",
      "<meta name=\"viewport\" content=\"width=device-width,initial-scale=1\" />\n",
      "<link rel=\"stylesheet\" id=\"cf_styles-css\" href=\"/cdn-cgi/styles/main.css\" />\n",
      "\n",
      "\n",
      "</head>\n",
      "<body>\n",
      "<div id=\"cf-wrapper\">\n",
      "    <div id=\"cf-error-details\" class=\"p-0\">\n",
      "        <header class=\"mx-auto pt-10 lg:pt-6 lg:px-8 w-240 lg:w-full mb-8\">\n",
      "            <h1 class=\"inline-block sm:block sm:mb-2 font-light text-60 lg:text-4xl text-black-dark leading-tight mr-2\">\n",
      "              <span class=\"inline-block\">Gateway time-out</span>\n",
      "              <span class=\"code-label\">Error code 504</span>\n",
      "            </h1>\n",
      "            <div>\n",
      "               Visit <a href=\"https://www.cloudflare.com/5xx-error-landing?utm_source=errorcode_504&utm_campaign=api.openai.com\" target=\"_blank\" rel=\"noopener noreferrer\">cloudflare.com</a> for more information.\n",
      "            </div>\n",
      "            <div class=\"mt-3\">2025-07-08 08:04:34 UTC</div>\n",
      "        </header>\n",
      "        <div class=\"my-8 bg-gradient-gray\">\n",
      "            <div class=\"w-240 lg:w-full mx-auto\">\n",
      "                <div class=\"clearfix md:px-8\">\n",
      "                  \n",
      "<div id=\"cf-browser-status\" class=\" relative w-1/3 md:w-full py-15 md:p-0 md:py-8 md:text-left md:border-solid md:border-0 md:border-b md:border-gray-400 overflow-hidden float-left md:float-none text-center\">\n",
      "  <div class=\"relative mb-10 md:m-0\">\n",
      "    \n",
      "    <span class=\"cf-icon-browser block md:hidden h-20 bg-center bg-no-repeat\"></span>\n",
      "    <span class=\"cf-icon-ok w-12 h-12 absolute left-1/2 md:left-auto md:right-0 md:top-0 -ml-6 -bottom-4\"></span>\n",
      "    \n",
      "  </div>\n",
      "  <span class=\"md:block w-full truncate\">You</span>\n",
      "  <h3 class=\"md:inline-block mt-3 md:mt-0 text-2xl text-gray-600 font-light leading-1.3\">\n",
      "    \n",
      "    Browser\n",
      "    \n",
      "  </h3>\n",
      "  <span class=\"leading-1.3 text-2xl text-green-success\">Working</span>\n",
      "</div>\n",
      "\n",
      "<div id=\"cf-cloudflare-status\" class=\" relative w-1/3 md:w-full py-15 md:p-0 md:py-8 md:text-left md:border-solid md:border-0 md:border-b md:border-gray-400 overflow-hidden float-left md:float-none text-center\">\n",
      "  <div class=\"relative mb-10 md:m-0\">\n",
      "    <a href=\"https://www.cloudflare.com/5xx-error-landing?utm_source=errorcode_504&utm_campaign=api.openai.com\" target=\"_blank\" rel=\"noopener noreferrer\">\n",
      "    <span class=\"cf-icon-cloud block md:hidden h-20 bg-center bg-no-repeat\"></span>\n",
      "    <span class=\"cf-icon-ok w-12 h-12 absolute left-1/2 md:left-auto md:right-0 md:top-0 -ml-6 -bottom-4\"></span>\n",
      "    </a>\n",
      "  </div>\n",
      "  <span class=\"md:block w-full truncate\">San Jose</span>\n",
      "  <h3 class=\"md:inline-block mt-3 md:mt-0 text-2xl text-gray-600 font-light leading-1.3\">\n",
      "    <a href=\"https://www.cloudflare.com/5xx-error-landing?utm_source=errorcode_504&utm_campaign=api.openai.com\" target=\"_blank\" rel=\"noopener noreferrer\">\n",
      "    Cloudflare\n",
      "    </a>\n",
      "  </h3>\n",
      "  <span class=\"leading-1.3 text-2xl text-green-success\">Working</span>\n",
      "</div>\n",
      "\n",
      "<div id=\"cf-host-status\" class=\"cf-error-source relative w-1/3 md:w-full py-15 md:p-0 md:py-8 md:text-left md:border-solid md:border-0 md:border-b md:border-gray-400 overflow-hidden float-left md:float-none text-center\">\n",
      "  <div class=\"relative mb-10 md:m-0\">\n",
      "    \n",
      "    <span class=\"cf-icon-server block md:hidden h-20 bg-center bg-no-repeat\"></span>\n",
      "    <span class=\"cf-icon-error w-12 h-12 absolute left-1/2 md:left-auto md:right-0 md:top-0 -ml-6 -bottom-4\"></span>\n",
      "    \n",
      "  </div>\n",
      "  <span class=\"md:block w-full truncate\">api.openai.com</span>\n",
      "  <h3 class=\"md:inline-block mt-3 md:mt-0 text-2xl text-gray-600 font-light leading-1.3\">\n",
      "    \n",
      "    Host\n",
      "    \n",
      "  </h3>\n",
      "  <span class=\"leading-1.3 text-2xl text-red-error\">Error</span>\n",
      "</div>\n",
      "\n",
      "                </div>\n",
      "            </div>\n",
      "        </div>\n",
      "\n",
      "        <div class=\"w-240 lg:w-full mx-auto mb-8 lg:px-8\">\n",
      "            <div class=\"clearfix\">\n",
      "                <div class=\"w-1/2 md:w-full float-left pr-6 md:pb-10 md:pr-0 leading-relaxed\">\n",
      "                    <h2 class=\"text-3xl font-normal leading-1.3 mb-4\">What happened?</h2>\n",
      "                    <p>The web server reported a gateway time-out error.</p>\n",
      "                </div>\n",
      "                <div class=\"w-1/2 md:w-full float-left leading-relaxed\">\n",
      "                    <h2 class=\"text-3xl font-normal leading-1.3 mb-4\">What can I do?</h2>\n",
      "                    <p class=\"mb-6\">Please try again in a few minutes.</p>\n",
      "                </div>\n",
      "            </div>\n",
      "        </div>\n",
      "\n",
      "        <div class=\"cf-error-footer cf-wrapper w-240 lg:w-full py-10 sm:py-4 sm:px-8 mx-auto text-center sm:text-left border-solid border-0 border-t border-gray-300\">\n",
      "  <p class=\"text-13\">\n",
      "    <span class=\"cf-footer-item sm:block sm:mb-1\">Cloudflare Ray ID: <strong class=\"font-semibold\">95be0ad76ef315ac</strong></span>\n",
      "    <span class=\"cf-footer-separator sm:hidden\">&bull;</span>\n",
      "    <span id=\"cf-footer-item-ip\" class=\"cf-footer-item hidden sm:block sm:mb-1\">\n",
      "      Your IP:\n",
      "      <button type=\"button\" id=\"cf-footer-ip-reveal\" class=\"cf-footer-ip-reveal-btn\">Click to reveal</button>\n",
      "      <span class=\"hidden\" id=\"cf-footer-ip\">23.121.157.15</span>\n",
      "      <span class=\"cf-footer-separator sm:hidden\">&bull;</span>\n",
      "    </span>\n",
      "    <span class=\"cf-footer-item sm:block sm:mb-1\"><span>Performance &amp; security by</span> <a rel=\"noopener noreferrer\" href=\"https://www.cloudflare.com/5xx-error-landing?utm_source=errorcode_504&utm_campaign=api.openai.com\" id=\"brand_link\" target=\"_blank\">Cloudflare</a></span>\n",
      "    \n",
      "  </p>\n",
      "  <script>(function(){function d(){var b=a.getElementById(\"cf-footer-item-ip\"),c=a.getElementById(\"cf-footer-ip-reveal\");b&&\"classList\"in b&&(b.classList.remove(\"hidden\"),c.addEventListener(\"click\",function(){c.classList.add(\"hidden\");a.getElementById(\"cf-footer-ip\").classList.remove(\"hidden\")}))}var a=document;document.addEventListener&&a.addEventListener(\"DOMContentLoaded\",d)})();</script>\n",
      "</div><!-- /.error-footer -->\n",
      "\n",
      "\n",
      "    </div>\n",
      "</div>\n",
      "</body>\n",
      "</html>\n",
      ")\n",
      "Processed 40000 out of 66985 cells...\n",
      "Processed 41000 out of 66985 cells...\n",
      "Processed 42000 out of 66985 cells...\n",
      "Failed to fetch embeddings from OpenAi. Attempt 1: Request timed out: HTTPSConnectionPool(host='api.openai.com', port=443): Read timed out. (read timeout=600)\n",
      "Processed 43000 out of 66985 cells...\n",
      "Processed 44000 out of 66985 cells...\n",
      "Processed 45000 out of 66985 cells...\n",
      "Processed 46000 out of 66985 cells...\n",
      "Processed 47000 out of 66985 cells...\n",
      "Processed 48000 out of 66985 cells...\n",
      "Processed 49000 out of 66985 cells...\n",
      "Processed 50000 out of 66985 cells...\n",
      "Processed 51000 out of 66985 cells...\n",
      "Processed 52000 out of 66985 cells...\n",
      "Processed 53000 out of 66985 cells...\n",
      "Processed 54000 out of 66985 cells...\n",
      "Processed 55000 out of 66985 cells...\n",
      "Processed 56000 out of 66985 cells...\n"
     ]
    }
   ],
   "execution_count": null
  }
 ],
 "metadata": {
  "kernelspec": {
   "display_name": "Python (.venv)",
   "language": "python",
   "name": "venv"
  },
  "language_info": {
   "codemirror_mode": {
    "name": "ipython",
    "version": 2
   },
   "file_extension": ".py",
   "mimetype": "text/x-python",
   "name": "python",
   "nbconvert_exporter": "python",
   "pygments_lexer": "ipython2",
   "version": "2.7.6"
  }
 },
 "nbformat": 4,
 "nbformat_minor": 5
}
